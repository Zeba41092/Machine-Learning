{
 "cells": [
  {
   "cell_type": "markdown",
   "metadata": {},
   "source": [
    "## Problem Statement 2:\n",
    "Identify the level of income qualification needed for the families in Latin America.\n",
    "\n",
    "Problem Statement Scenario:\n",
    "Many social programs have a hard time ensuring that the right people are given enough aid. It’s tricky when a program focuses on the poorest segment of the population. This segment of the population can’t provide the necessary income and expense records to prove that they qualify.\n",
    "\n",
    "In Latin America, a popular method called Proxy Means Test (PMT) uses an algorithm to verify income qualification. With PMT, agencies use a model that considers a family’s observable household attributes like the material of their walls and ceiling or the assets found in their homes to\n",
    "classify them and predict their level of need.\n",
    "\n",
    "While this is an improvement, accuracy remains a problem as the region’s population grows and poverty declines.\n",
    "\n",
    "The Inter-American Development Bank (IDB)believes that new methods beyond traditional econometrics, based on a dataset of Costa Rican household characteristics, might help improve PMT’s performance.\n",
    "Following actions should be performed:\n",
    "\n",
    "\n",
    "Identify the output variable.\n",
    "\n",
    "Understand the type of data.\n",
    "\n",
    "Check if there are any biases in your dataset.\n",
    "\n",
    "Check whether all members of the house have the same poverty level.\n",
    "\n",
    "Check if there is a house without a family head.\n",
    "\n",
    "Set poverty level of the members and the head of the house within a family.\n",
    "\n",
    "Count how many null values are existing in columns.\n",
    "\n",
    "Remove null value rows of the target variable.\n",
    "\n",
    "Predict the accuracy using random forest classifier.\n",
    "\n",
    "Check the accuracy using random forest with cross validation."
   ]
  },
  {
   "cell_type": "code",
   "execution_count": 1,
   "metadata": {},
   "outputs": [],
   "source": [
    "import pandas as pd \n",
    "import numpy as np \n",
    "import matplotlib.pyplot as plt \n",
    "%matplotlib inline\n",
    "from sklearn import model_selection"
   ]
  },
  {
   "cell_type": "code",
   "execution_count": 2,
   "metadata": {},
   "outputs": [
    {
     "data": {
      "text/html": [
       "<div>\n",
       "<style scoped>\n",
       "    .dataframe tbody tr th:only-of-type {\n",
       "        vertical-align: middle;\n",
       "    }\n",
       "\n",
       "    .dataframe tbody tr th {\n",
       "        vertical-align: top;\n",
       "    }\n",
       "\n",
       "    .dataframe thead th {\n",
       "        text-align: right;\n",
       "    }\n",
       "</style>\n",
       "<table border=\"1\" class=\"dataframe\">\n",
       "  <thead>\n",
       "    <tr style=\"text-align: right;\">\n",
       "      <th></th>\n",
       "      <th>Id</th>\n",
       "      <th>v2a1</th>\n",
       "      <th>hacdor</th>\n",
       "      <th>rooms</th>\n",
       "      <th>hacapo</th>\n",
       "      <th>v14a</th>\n",
       "      <th>refrig</th>\n",
       "      <th>v18q</th>\n",
       "      <th>v18q1</th>\n",
       "      <th>r4h1</th>\n",
       "      <th>...</th>\n",
       "      <th>SQBescolari</th>\n",
       "      <th>SQBage</th>\n",
       "      <th>SQBhogar_total</th>\n",
       "      <th>SQBedjefe</th>\n",
       "      <th>SQBhogar_nin</th>\n",
       "      <th>SQBovercrowding</th>\n",
       "      <th>SQBdependency</th>\n",
       "      <th>SQBmeaned</th>\n",
       "      <th>agesq</th>\n",
       "      <th>Target</th>\n",
       "    </tr>\n",
       "  </thead>\n",
       "  <tbody>\n",
       "    <tr>\n",
       "      <th>0</th>\n",
       "      <td>ID_279628684</td>\n",
       "      <td>190000.0</td>\n",
       "      <td>0</td>\n",
       "      <td>3</td>\n",
       "      <td>0</td>\n",
       "      <td>1</td>\n",
       "      <td>1</td>\n",
       "      <td>0</td>\n",
       "      <td>NaN</td>\n",
       "      <td>0</td>\n",
       "      <td>...</td>\n",
       "      <td>100</td>\n",
       "      <td>1849</td>\n",
       "      <td>1</td>\n",
       "      <td>100</td>\n",
       "      <td>0</td>\n",
       "      <td>1.000000</td>\n",
       "      <td>0.0</td>\n",
       "      <td>100.0</td>\n",
       "      <td>1849</td>\n",
       "      <td>4</td>\n",
       "    </tr>\n",
       "    <tr>\n",
       "      <th>1</th>\n",
       "      <td>ID_f29eb3ddd</td>\n",
       "      <td>135000.0</td>\n",
       "      <td>0</td>\n",
       "      <td>4</td>\n",
       "      <td>0</td>\n",
       "      <td>1</td>\n",
       "      <td>1</td>\n",
       "      <td>1</td>\n",
       "      <td>1.0</td>\n",
       "      <td>0</td>\n",
       "      <td>...</td>\n",
       "      <td>144</td>\n",
       "      <td>4489</td>\n",
       "      <td>1</td>\n",
       "      <td>144</td>\n",
       "      <td>0</td>\n",
       "      <td>1.000000</td>\n",
       "      <td>64.0</td>\n",
       "      <td>144.0</td>\n",
       "      <td>4489</td>\n",
       "      <td>4</td>\n",
       "    </tr>\n",
       "    <tr>\n",
       "      <th>2</th>\n",
       "      <td>ID_68de51c94</td>\n",
       "      <td>NaN</td>\n",
       "      <td>0</td>\n",
       "      <td>8</td>\n",
       "      <td>0</td>\n",
       "      <td>1</td>\n",
       "      <td>1</td>\n",
       "      <td>0</td>\n",
       "      <td>NaN</td>\n",
       "      <td>0</td>\n",
       "      <td>...</td>\n",
       "      <td>121</td>\n",
       "      <td>8464</td>\n",
       "      <td>1</td>\n",
       "      <td>0</td>\n",
       "      <td>0</td>\n",
       "      <td>0.250000</td>\n",
       "      <td>64.0</td>\n",
       "      <td>121.0</td>\n",
       "      <td>8464</td>\n",
       "      <td>4</td>\n",
       "    </tr>\n",
       "    <tr>\n",
       "      <th>3</th>\n",
       "      <td>ID_d671db89c</td>\n",
       "      <td>180000.0</td>\n",
       "      <td>0</td>\n",
       "      <td>5</td>\n",
       "      <td>0</td>\n",
       "      <td>1</td>\n",
       "      <td>1</td>\n",
       "      <td>1</td>\n",
       "      <td>1.0</td>\n",
       "      <td>0</td>\n",
       "      <td>...</td>\n",
       "      <td>81</td>\n",
       "      <td>289</td>\n",
       "      <td>16</td>\n",
       "      <td>121</td>\n",
       "      <td>4</td>\n",
       "      <td>1.777778</td>\n",
       "      <td>1.0</td>\n",
       "      <td>121.0</td>\n",
       "      <td>289</td>\n",
       "      <td>4</td>\n",
       "    </tr>\n",
       "    <tr>\n",
       "      <th>4</th>\n",
       "      <td>ID_d56d6f5f5</td>\n",
       "      <td>180000.0</td>\n",
       "      <td>0</td>\n",
       "      <td>5</td>\n",
       "      <td>0</td>\n",
       "      <td>1</td>\n",
       "      <td>1</td>\n",
       "      <td>1</td>\n",
       "      <td>1.0</td>\n",
       "      <td>0</td>\n",
       "      <td>...</td>\n",
       "      <td>121</td>\n",
       "      <td>1369</td>\n",
       "      <td>16</td>\n",
       "      <td>121</td>\n",
       "      <td>4</td>\n",
       "      <td>1.777778</td>\n",
       "      <td>1.0</td>\n",
       "      <td>121.0</td>\n",
       "      <td>1369</td>\n",
       "      <td>4</td>\n",
       "    </tr>\n",
       "  </tbody>\n",
       "</table>\n",
       "<p>5 rows × 143 columns</p>\n",
       "</div>"
      ],
      "text/plain": [
       "             Id      v2a1  hacdor  rooms  hacapo  v14a  refrig  v18q  v18q1  \\\n",
       "0  ID_279628684  190000.0       0      3       0     1       1     0    NaN   \n",
       "1  ID_f29eb3ddd  135000.0       0      4       0     1       1     1    1.0   \n",
       "2  ID_68de51c94       NaN       0      8       0     1       1     0    NaN   \n",
       "3  ID_d671db89c  180000.0       0      5       0     1       1     1    1.0   \n",
       "4  ID_d56d6f5f5  180000.0       0      5       0     1       1     1    1.0   \n",
       "\n",
       "   r4h1  ...  SQBescolari  SQBage  SQBhogar_total  SQBedjefe  SQBhogar_nin  \\\n",
       "0     0  ...          100    1849               1        100             0   \n",
       "1     0  ...          144    4489               1        144             0   \n",
       "2     0  ...          121    8464               1          0             0   \n",
       "3     0  ...           81     289              16        121             4   \n",
       "4     0  ...          121    1369              16        121             4   \n",
       "\n",
       "   SQBovercrowding  SQBdependency  SQBmeaned  agesq  Target  \n",
       "0         1.000000            0.0      100.0   1849       4  \n",
       "1         1.000000           64.0      144.0   4489       4  \n",
       "2         0.250000           64.0      121.0   8464       4  \n",
       "3         1.777778            1.0      121.0    289       4  \n",
       "4         1.777778            1.0      121.0   1369       4  \n",
       "\n",
       "[5 rows x 143 columns]"
      ]
     },
     "execution_count": 2,
     "metadata": {},
     "output_type": "execute_result"
    }
   ],
   "source": [
    "Train_income= pd.read_csv('Train.csv')\n",
    "Train_income.head()"
   ]
  },
  {
   "cell_type": "code",
   "execution_count": 3,
   "metadata": {},
   "outputs": [
    {
     "data": {
      "text/html": [
       "<div>\n",
       "<style scoped>\n",
       "    .dataframe tbody tr th:only-of-type {\n",
       "        vertical-align: middle;\n",
       "    }\n",
       "\n",
       "    .dataframe tbody tr th {\n",
       "        vertical-align: top;\n",
       "    }\n",
       "\n",
       "    .dataframe thead th {\n",
       "        text-align: right;\n",
       "    }\n",
       "</style>\n",
       "<table border=\"1\" class=\"dataframe\">\n",
       "  <thead>\n",
       "    <tr style=\"text-align: right;\">\n",
       "      <th></th>\n",
       "      <th>Id</th>\n",
       "      <th>v2a1</th>\n",
       "      <th>hacdor</th>\n",
       "      <th>rooms</th>\n",
       "      <th>hacapo</th>\n",
       "      <th>v14a</th>\n",
       "      <th>refrig</th>\n",
       "      <th>v18q</th>\n",
       "      <th>v18q1</th>\n",
       "      <th>r4h1</th>\n",
       "      <th>...</th>\n",
       "      <th>age</th>\n",
       "      <th>SQBescolari</th>\n",
       "      <th>SQBage</th>\n",
       "      <th>SQBhogar_total</th>\n",
       "      <th>SQBedjefe</th>\n",
       "      <th>SQBhogar_nin</th>\n",
       "      <th>SQBovercrowding</th>\n",
       "      <th>SQBdependency</th>\n",
       "      <th>SQBmeaned</th>\n",
       "      <th>agesq</th>\n",
       "    </tr>\n",
       "  </thead>\n",
       "  <tbody>\n",
       "    <tr>\n",
       "      <th>0</th>\n",
       "      <td>ID_2f6873615</td>\n",
       "      <td>NaN</td>\n",
       "      <td>0</td>\n",
       "      <td>5</td>\n",
       "      <td>0</td>\n",
       "      <td>1</td>\n",
       "      <td>1</td>\n",
       "      <td>0</td>\n",
       "      <td>NaN</td>\n",
       "      <td>1</td>\n",
       "      <td>...</td>\n",
       "      <td>4</td>\n",
       "      <td>0</td>\n",
       "      <td>16</td>\n",
       "      <td>9</td>\n",
       "      <td>0</td>\n",
       "      <td>1</td>\n",
       "      <td>2.25</td>\n",
       "      <td>0.25</td>\n",
       "      <td>272.25</td>\n",
       "      <td>16</td>\n",
       "    </tr>\n",
       "    <tr>\n",
       "      <th>1</th>\n",
       "      <td>ID_1c78846d2</td>\n",
       "      <td>NaN</td>\n",
       "      <td>0</td>\n",
       "      <td>5</td>\n",
       "      <td>0</td>\n",
       "      <td>1</td>\n",
       "      <td>1</td>\n",
       "      <td>0</td>\n",
       "      <td>NaN</td>\n",
       "      <td>1</td>\n",
       "      <td>...</td>\n",
       "      <td>41</td>\n",
       "      <td>256</td>\n",
       "      <td>1681</td>\n",
       "      <td>9</td>\n",
       "      <td>0</td>\n",
       "      <td>1</td>\n",
       "      <td>2.25</td>\n",
       "      <td>0.25</td>\n",
       "      <td>272.25</td>\n",
       "      <td>1681</td>\n",
       "    </tr>\n",
       "    <tr>\n",
       "      <th>2</th>\n",
       "      <td>ID_e5442cf6a</td>\n",
       "      <td>NaN</td>\n",
       "      <td>0</td>\n",
       "      <td>5</td>\n",
       "      <td>0</td>\n",
       "      <td>1</td>\n",
       "      <td>1</td>\n",
       "      <td>0</td>\n",
       "      <td>NaN</td>\n",
       "      <td>1</td>\n",
       "      <td>...</td>\n",
       "      <td>41</td>\n",
       "      <td>289</td>\n",
       "      <td>1681</td>\n",
       "      <td>9</td>\n",
       "      <td>0</td>\n",
       "      <td>1</td>\n",
       "      <td>2.25</td>\n",
       "      <td>0.25</td>\n",
       "      <td>272.25</td>\n",
       "      <td>1681</td>\n",
       "    </tr>\n",
       "    <tr>\n",
       "      <th>3</th>\n",
       "      <td>ID_a8db26a79</td>\n",
       "      <td>NaN</td>\n",
       "      <td>0</td>\n",
       "      <td>14</td>\n",
       "      <td>0</td>\n",
       "      <td>1</td>\n",
       "      <td>1</td>\n",
       "      <td>1</td>\n",
       "      <td>1.0</td>\n",
       "      <td>0</td>\n",
       "      <td>...</td>\n",
       "      <td>59</td>\n",
       "      <td>256</td>\n",
       "      <td>3481</td>\n",
       "      <td>1</td>\n",
       "      <td>256</td>\n",
       "      <td>0</td>\n",
       "      <td>1.00</td>\n",
       "      <td>0.00</td>\n",
       "      <td>256.00</td>\n",
       "      <td>3481</td>\n",
       "    </tr>\n",
       "    <tr>\n",
       "      <th>4</th>\n",
       "      <td>ID_a62966799</td>\n",
       "      <td>175000.0</td>\n",
       "      <td>0</td>\n",
       "      <td>4</td>\n",
       "      <td>0</td>\n",
       "      <td>1</td>\n",
       "      <td>1</td>\n",
       "      <td>1</td>\n",
       "      <td>1.0</td>\n",
       "      <td>0</td>\n",
       "      <td>...</td>\n",
       "      <td>18</td>\n",
       "      <td>121</td>\n",
       "      <td>324</td>\n",
       "      <td>1</td>\n",
       "      <td>0</td>\n",
       "      <td>1</td>\n",
       "      <td>0.25</td>\n",
       "      <td>64.00</td>\n",
       "      <td>NaN</td>\n",
       "      <td>324</td>\n",
       "    </tr>\n",
       "  </tbody>\n",
       "</table>\n",
       "<p>5 rows × 142 columns</p>\n",
       "</div>"
      ],
      "text/plain": [
       "             Id      v2a1  hacdor  rooms  hacapo  v14a  refrig  v18q  v18q1  \\\n",
       "0  ID_2f6873615       NaN       0      5       0     1       1     0    NaN   \n",
       "1  ID_1c78846d2       NaN       0      5       0     1       1     0    NaN   \n",
       "2  ID_e5442cf6a       NaN       0      5       0     1       1     0    NaN   \n",
       "3  ID_a8db26a79       NaN       0     14       0     1       1     1    1.0   \n",
       "4  ID_a62966799  175000.0       0      4       0     1       1     1    1.0   \n",
       "\n",
       "   r4h1  ...  age  SQBescolari  SQBage  SQBhogar_total  SQBedjefe  \\\n",
       "0     1  ...    4            0      16               9          0   \n",
       "1     1  ...   41          256    1681               9          0   \n",
       "2     1  ...   41          289    1681               9          0   \n",
       "3     0  ...   59          256    3481               1        256   \n",
       "4     0  ...   18          121     324               1          0   \n",
       "\n",
       "   SQBhogar_nin  SQBovercrowding  SQBdependency  SQBmeaned  agesq  \n",
       "0             1             2.25           0.25     272.25     16  \n",
       "1             1             2.25           0.25     272.25   1681  \n",
       "2             1             2.25           0.25     272.25   1681  \n",
       "3             0             1.00           0.00     256.00   3481  \n",
       "4             1             0.25          64.00        NaN    324  \n",
       "\n",
       "[5 rows x 142 columns]"
      ]
     },
     "execution_count": 3,
     "metadata": {},
     "output_type": "execute_result"
    }
   ],
   "source": [
    "Test_income =pd.read_csv(\"Test.csv\")\n",
    "Test_income.head()"
   ]
  },
  {
   "cell_type": "markdown",
   "metadata": {},
   "source": [
    "### let us find the shape, column,description of the train and test data"
   ]
  },
  {
   "cell_type": "code",
   "execution_count": 4,
   "metadata": {},
   "outputs": [
    {
     "name": "stdout",
     "output_type": "stream",
     "text": [
      "the train dataset is (9557, 143)\n"
     ]
    }
   ],
   "source": [
    "print(\"the train dataset is {}\".format(Train_income.shape))"
   ]
  },
  {
   "cell_type": "code",
   "execution_count": 5,
   "metadata": {},
   "outputs": [
    {
     "name": "stdout",
     "output_type": "stream",
     "text": [
      "The test dataset is(23856, 142)\n"
     ]
    }
   ],
   "source": [
    "print(\"The test dataset is{}\".format(Test_income.shape))"
   ]
  },
  {
   "cell_type": "code",
   "execution_count": 6,
   "metadata": {},
   "outputs": [
    {
     "data": {
      "text/plain": [
       "Index(['Id', 'v2a1', 'hacdor', 'rooms', 'hacapo', 'v14a', 'refrig', 'v18q',\n",
       "       'v18q1', 'r4h1',\n",
       "       ...\n",
       "       'SQBescolari', 'SQBage', 'SQBhogar_total', 'SQBedjefe', 'SQBhogar_nin',\n",
       "       'SQBovercrowding', 'SQBdependency', 'SQBmeaned', 'agesq', 'Target'],\n",
       "      dtype='object', length=143)"
      ]
     },
     "execution_count": 6,
     "metadata": {},
     "output_type": "execute_result"
    }
   ],
   "source": [
    "Train_income.columns"
   ]
  },
  {
   "cell_type": "code",
   "execution_count": 7,
   "metadata": {},
   "outputs": [
    {
     "data": {
      "text/plain": [
       "Index(['Id', 'v2a1', 'hacdor', 'rooms', 'hacapo', 'v14a', 'refrig', 'v18q',\n",
       "       'v18q1', 'r4h1',\n",
       "       ...\n",
       "       'age', 'SQBescolari', 'SQBage', 'SQBhogar_total', 'SQBedjefe',\n",
       "       'SQBhogar_nin', 'SQBovercrowding', 'SQBdependency', 'SQBmeaned',\n",
       "       'agesq'],\n",
       "      dtype='object', length=142)"
      ]
     },
     "execution_count": 7,
     "metadata": {},
     "output_type": "execute_result"
    }
   ],
   "source": [
    "Test_income.columns"
   ]
  },
  {
   "cell_type": "markdown",
   "metadata": {},
   "source": [
    "### Identify the output variable."
   ]
  },
  {
   "cell_type": "code",
   "execution_count": 8,
   "metadata": {},
   "outputs": [
    {
     "name": "stdout",
     "output_type": "stream",
     "text": [
      "<class 'pandas.core.frame.DataFrame'>\n",
      "RangeIndex: 9557 entries, 0 to 9556\n",
      "Columns: 143 entries, Id to Target\n",
      "dtypes: float64(8), int64(130), object(5)\n",
      "memory usage: 10.4+ MB\n"
     ]
    }
   ],
   "source": [
    "Train_income.info()"
   ]
  },
  {
   "cell_type": "code",
   "execution_count": 9,
   "metadata": {},
   "outputs": [
    {
     "name": "stdout",
     "output_type": "stream",
     "text": [
      "Our Target variable is Target\n"
     ]
    }
   ],
   "source": [
    "for i in Train_income.columns:\n",
    "    if i not in Test_income.columns:\n",
    "        print(\"Our Target variable is {}\".format(i))"
   ]
  },
  {
   "cell_type": "markdown",
   "metadata": {},
   "source": [
    "## Understand the type of data."
   ]
  },
  {
   "cell_type": "code",
   "execution_count": 10,
   "metadata": {},
   "outputs": [
    {
     "data": {
      "text/plain": [
       "Id                  object\n",
       "v2a1               float64\n",
       "hacdor               int64\n",
       "rooms                int64\n",
       "hacapo               int64\n",
       "                    ...   \n",
       "SQBovercrowding    float64\n",
       "SQBdependency      float64\n",
       "SQBmeaned          float64\n",
       "agesq                int64\n",
       "Target               int64\n",
       "Length: 143, dtype: object"
      ]
     },
     "execution_count": 10,
     "metadata": {},
     "output_type": "execute_result"
    }
   ],
   "source": [
    "Train_income.dtypes"
   ]
  },
  {
   "cell_type": "markdown",
   "metadata": {},
   "source": [
    "we can see from above it is not clear how many datatypes. let us count the number of exaclty datatypes.\n"
   ]
  },
  {
   "cell_type": "code",
   "execution_count": 11,
   "metadata": {},
   "outputs": [
    {
     "data": {
      "text/plain": [
       "int64      130\n",
       "float64      8\n",
       "object       5\n",
       "dtype: int64"
      ]
     },
     "execution_count": 11,
     "metadata": {},
     "output_type": "execute_result"
    }
   ],
   "source": [
    "Train_income.dtypes.value_counts()"
   ]
  },
  {
   "cell_type": "markdown",
   "metadata": {},
   "source": [
    "From above we can see that total 130 columns are int64 types, 8 columns float64 types and 5 columns are string form. list these columns with different datatypes."
   ]
  },
  {
   "cell_type": "code",
   "execution_count": 12,
   "metadata": {},
   "outputs": [
    {
     "name": "stdout",
     "output_type": "stream",
     "text": [
      "Integer type: Index(['hacdor', 'rooms', 'hacapo', 'v14a', 'refrig', 'v18q', 'r4h1', 'r4h2',\n",
      "       'r4h3', 'r4m1',\n",
      "       ...\n",
      "       'area1', 'area2', 'age', 'SQBescolari', 'SQBage', 'SQBhogar_total',\n",
      "       'SQBedjefe', 'SQBhogar_nin', 'agesq', 'Target'],\n",
      "      dtype='object', length=130)\n",
      "\n",
      "\n",
      "Float Type: Index(['v2a1', 'v18q1', 'rez_esc', 'meaneduc', 'overcrowding',\n",
      "       'SQBovercrowding', 'SQBdependency', 'SQBmeaned'],\n",
      "      dtype='object')\n",
      "\n",
      "\n",
      "Object Type: Index(['Id', 'idhogar', 'dependency', 'edjefe', 'edjefa'], dtype='object')\n"
     ]
    },
    {
     "name": "stderr",
     "output_type": "stream",
     "text": [
      "/usr/local/lib/python3.7/site-packages/ipykernel_launcher.py:7: DeprecationWarning: `np.object` is a deprecated alias for the builtin `object`. To silence this warning, use `object` by itself. Doing this will not modify any behavior and is safe. \n",
      "Deprecated in NumPy 1.20; for more details and guidance: https://numpy.org/devdocs/release/1.20.0-notes.html#deprecations\n",
      "  import sys\n"
     ]
    }
   ],
   "source": [
    "print(\"Integer type:\",Train_income.select_dtypes(np.int64).columns)\n",
    "      \n",
    "print('\\n')\n",
    "\n",
    "print('Float Type:', Train_income.select_dtypes(np.float64).columns)\n",
    "print('\\n')\n",
    "print('Object Type:',Train_income.select_dtypes(np.object).columns)\n"
   ]
  },
  {
   "cell_type": "markdown",
   "metadata": {},
   "source": [
    "in the above we can see the categorical data.  \n",
    "ID =unique ID.\n",
    "\n",
    "idhogar= household level identifier.\n",
    "\n",
    "dependency= Dependency rate, calculated = (number of members of the household\n",
    "younger than 19 or older than 64)/(number of member of household between 19 and 64).\n",
    "\n",
    "edjefe= years of education of male head of household, based on the interaction of\n",
    "escolari (years of education), head of household and gender, yes=1 and no=0.\n",
    "\n",
    "edjefa= years of education of female head of household, based on the interaction of\n",
    "escolari (years of education), head of household and gender, yes=1 and no=0.\n",
    "\n",
    "In the above column we can see that ID has no impact on income qualification and also with the idhogar, hence we will drop these columns"
   ]
  },
  {
   "cell_type": "code",
   "execution_count": 13,
   "metadata": {},
   "outputs": [
    {
     "name": "stdout",
     "output_type": "stream",
     "text": [
      "Before dropping the columns (9557, 143)\n",
      "After dropping the columns (9557, 142)\n"
     ]
    }
   ],
   "source": [
    "print(\"Before dropping the columns\", Train_income.shape)\n",
    "Train_income =Train_income.drop(['Id'], axis=1)\n",
    "print(\"After dropping the columns\", Train_income.shape)"
   ]
  },
  {
   "cell_type": "markdown",
   "metadata": {},
   "source": [
    "### Count How Many Null Values re existing in Columns."
   ]
  },
  {
   "cell_type": "code",
   "execution_count": 14,
   "metadata": {},
   "outputs": [
    {
     "data": {
      "text/plain": [
       "v2a1               6860\n",
       "hacdor                0\n",
       "rooms                 0\n",
       "hacapo                0\n",
       "v14a                  0\n",
       "                   ... \n",
       "SQBovercrowding       0\n",
       "SQBdependency         0\n",
       "SQBmeaned             5\n",
       "agesq                 0\n",
       "Target                0\n",
       "Length: 142, dtype: int64"
      ]
     },
     "execution_count": 14,
     "metadata": {},
     "output_type": "execute_result"
    }
   ],
   "source": [
    "Train_income.isna().sum()"
   ]
  },
  {
   "cell_type": "markdown",
   "metadata": {},
   "source": [
    "lets split to get the null values according to int64, float64,object types."
   ]
  },
  {
   "cell_type": "code",
   "execution_count": 15,
   "metadata": {},
   "outputs": [
    {
     "data": {
      "text/plain": [
       "Series([], dtype: int64)"
      ]
     },
     "execution_count": 15,
     "metadata": {},
     "output_type": "execute_result"
    }
   ],
   "source": [
    "# check the null values in int64 type data.\n",
    "null_counts =Train_income.select_dtypes('int64').isnull().sum()\n",
    "\n",
    "null_counts[null_counts>0]"
   ]
  },
  {
   "cell_type": "code",
   "execution_count": 16,
   "metadata": {},
   "outputs": [
    {
     "data": {
      "text/plain": [
       "idhogar       0\n",
       "dependency    0\n",
       "edjefe        0\n",
       "edjefa        0\n",
       "dtype: int64"
      ]
     },
     "execution_count": 16,
     "metadata": {},
     "output_type": "execute_result"
    }
   ],
   "source": [
    "# check the null values in object datatypes.\n",
    "null_counts =Train_income.select_dtypes('object').isnull().sum()\n",
    "null_counts"
   ]
  },
  {
   "cell_type": "code",
   "execution_count": 17,
   "metadata": {},
   "outputs": [
    {
     "data": {
      "text/plain": [
       "v2a1               6860\n",
       "v18q1              7342\n",
       "rez_esc            7928\n",
       "meaneduc              5\n",
       "overcrowding          0\n",
       "SQBovercrowding       0\n",
       "SQBdependency         0\n",
       "SQBmeaned             5\n",
       "dtype: int64"
      ]
     },
     "execution_count": 17,
     "metadata": {},
     "output_type": "execute_result"
    }
   ],
   "source": [
    "# check the null values in float type data.\n",
    "null_counts =Train_income.select_dtypes('float64').isnull().sum()\n",
    "null_counts"
   ]
  },
  {
   "cell_type": "markdown",
   "metadata": {},
   "source": [
    "we have seen that v2a1,v18q1,rez_esc,meaneduc,SQBmeaned has null values.\n",
    "\n",
    "v2a1= Monthly rent payment.\n",
    "\n",
    "v18q1= number of tablets household owns.\n",
    "\n",
    "rez_esc= Years behind in school.\n",
    "\n",
    "meaneduc= average years of education for adults (18+).\n",
    "\n",
    "SQBmeaned=  square of the mean years of education of adults (>=18) in the\n",
    "household. \n",
    "\n",
    "Lets fill with 0 value.\n",
    "Lets look at v2a1 (total nulls: 6860) : Monthly rent payment\n",
    "\n",
    "why the null values, Lets look at few rows with nulls in v2a1:\n",
    "\n",
    "### Columns related to Monthly rent payment\n",
    "tipovivi1, =1 own and fully paid house\n",
    "tipovivi2, \"=1 own, paying in installments\"\n",
    "tipovivi3, =1 rented\n",
    "tipovivi4, =1 precarious\n",
    "tipovivi5, \"=1 other(assigned, borrowed)\""
   ]
  },
  {
   "cell_type": "code",
   "execution_count": 18,
   "metadata": {},
   "outputs": [
    {
     "data": {
      "text/html": [
       "<div>\n",
       "<style scoped>\n",
       "    .dataframe tbody tr th:only-of-type {\n",
       "        vertical-align: middle;\n",
       "    }\n",
       "\n",
       "    .dataframe tbody tr th {\n",
       "        vertical-align: top;\n",
       "    }\n",
       "\n",
       "    .dataframe thead th {\n",
       "        text-align: right;\n",
       "    }\n",
       "</style>\n",
       "<table border=\"1\" class=\"dataframe\">\n",
       "  <thead>\n",
       "    <tr style=\"text-align: right;\">\n",
       "      <th></th>\n",
       "      <th>tipovivi1</th>\n",
       "      <th>tipovivi2</th>\n",
       "      <th>tipovivi3</th>\n",
       "      <th>tipovivi4</th>\n",
       "      <th>tipovivi5</th>\n",
       "    </tr>\n",
       "  </thead>\n",
       "  <tbody>\n",
       "    <tr>\n",
       "      <th>2</th>\n",
       "      <td>1</td>\n",
       "      <td>0</td>\n",
       "      <td>0</td>\n",
       "      <td>0</td>\n",
       "      <td>0</td>\n",
       "    </tr>\n",
       "    <tr>\n",
       "      <th>13</th>\n",
       "      <td>1</td>\n",
       "      <td>0</td>\n",
       "      <td>0</td>\n",
       "      <td>0</td>\n",
       "      <td>0</td>\n",
       "    </tr>\n",
       "    <tr>\n",
       "      <th>14</th>\n",
       "      <td>1</td>\n",
       "      <td>0</td>\n",
       "      <td>0</td>\n",
       "      <td>0</td>\n",
       "      <td>0</td>\n",
       "    </tr>\n",
       "    <tr>\n",
       "      <th>26</th>\n",
       "      <td>1</td>\n",
       "      <td>0</td>\n",
       "      <td>0</td>\n",
       "      <td>0</td>\n",
       "      <td>0</td>\n",
       "    </tr>\n",
       "    <tr>\n",
       "      <th>32</th>\n",
       "      <td>1</td>\n",
       "      <td>0</td>\n",
       "      <td>0</td>\n",
       "      <td>0</td>\n",
       "      <td>0</td>\n",
       "    </tr>\n",
       "  </tbody>\n",
       "</table>\n",
       "</div>"
      ],
      "text/plain": [
       "    tipovivi1  tipovivi2  tipovivi3  tipovivi4  tipovivi5\n",
       "2           1          0          0          0          0\n",
       "13          1          0          0          0          0\n",
       "14          1          0          0          0          0\n",
       "26          1          0          0          0          0\n",
       "32          1          0          0          0          0"
      ]
     },
     "execution_count": 18,
     "metadata": {},
     "output_type": "execute_result"
    }
   ],
   "source": [
    "data =Train_income[Train_income['v2a1'].isnull()].head()\n",
    "column=['tipovivi1','tipovivi2','tipovivi3','tipovivi4','tipovivi5']\n",
    "data[column]"
   ]
  },
  {
   "cell_type": "markdown",
   "metadata": {},
   "source": [
    "## let us plot the status for household that missing the payment (Nan Values)"
   ]
  },
  {
   "cell_type": "code",
   "execution_count": 19,
   "metadata": {},
   "outputs": [
    {
     "data": {
      "image/png": "[encoded data removed]",
      "text/plain": [
       "<Figure size 720x576 with 1 Axes>"
      ]
     },
     "metadata": {
      "needs_background": "light"
     },
     "output_type": "display_data"
    }
   ],
   "source": [
    "\n",
    "variable =[x for x in Train_income if x.startswith('tipo')]\n",
    "\n",
    "\n",
    "# Plot of the home ownership variables for home missing rent payments\n",
    "Train_income.loc[Train_income['v2a1'].isnull(),variable].sum().plot.bar(figsize=(10,8),\n",
    "                                                                       color='blue',edgecolor='k',linewidth=2);\n",
    "plt.xticks([0, 1, 2, 3, 4],\n",
    "           ['Owns and Paid Off', 'Owns and Paying', 'Rented', 'Precarious', 'Other'],\n",
    "          rotation = 20)\n",
    "plt.title('Home Ownership Status for Households Missing Rent Payments', size = 18);"
   ]
  },
  {
   "cell_type": "markdown",
   "metadata": {},
   "source": [
    "we can clearly see  that when the house is fully paid, there will be no monthly rent payment.\n",
    "Lets add 0 for all the null values. recheck the graph for any changes."
   ]
  },
  {
   "cell_type": "code",
   "execution_count": 20,
   "metadata": {},
   "outputs": [],
   "source": [
    "for df in [Train_income, Test_income]:\n",
    "    df['v2a1'].fillna(value=0, inplace= True)\n",
    "    "
   ]
  },
  {
   "cell_type": "code",
   "execution_count": 21,
   "metadata": {},
   "outputs": [
    {
     "data": {
      "text/plain": [
       "v2a1    0\n",
       "dtype: int64"
      ]
     },
     "execution_count": 21,
     "metadata": {},
     "output_type": "execute_result"
    }
   ],
   "source": [
    "Train_income[['v2a1']].isnull().sum()"
   ]
  },
  {
   "cell_type": "code",
   "execution_count": 22,
   "metadata": {},
   "outputs": [
    {
     "data": {
      "text/plain": [
       "v2a1    0\n",
       "dtype: int64"
      ]
     },
     "execution_count": 22,
     "metadata": {},
     "output_type": "execute_result"
    }
   ],
   "source": [
    "# test \n",
    "Test_income[['v2a1']].isnull().sum()"
   ]
  },
  {
   "cell_type": "markdown",
   "metadata": {},
   "source": [
    "Lets look at v18q1 (total nulls: 7342) : number of tablets household owns\n",
    "why the null values, \n",
    "\n",
    "Lets look at few rows with nulls in v18q1\n",
    "Columns related to number of tablets household owns\n",
    "v18q, owns a tablet\n",
    "\n",
    "Since this is a household variable, it only makes sense to look at it on a household level, so we'll only select the rows for the head of household.\n",
    "\n",
    "parentesco1, =1 if household head."
   ]
  },
  {
   "cell_type": "code",
   "execution_count": 23,
   "metadata": {},
   "outputs": [],
   "source": [
    "head = Train_income.loc[Train_income['parentesco1']==1].copy()"
   ]
  },
  {
   "cell_type": "code",
   "execution_count": 24,
   "metadata": {},
   "outputs": [
    {
     "data": {
      "text/plain": [
       "v18q1\n",
       "1.0    0\n",
       "2.0    0\n",
       "3.0    0\n",
       "4.0    0\n",
       "5.0    0\n",
       "6.0    0\n",
       "Name: v18q, dtype: int64"
      ]
     },
     "execution_count": 24,
     "metadata": {},
     "output_type": "execute_result"
    }
   ],
   "source": [
    "head.groupby('v18q1')['v18q'].apply(lambda x: x.isnull().sum())"
   ]
  },
  {
   "cell_type": "code",
   "execution_count": 25,
   "metadata": {},
   "outputs": [
    {
     "data": {
      "image/png": "[encoded data removed]",
      "text/plain": [
       "<Figure size 720x576 with 1 Axes>"
      ]
     },
     "metadata": {
      "needs_background": "light"
     },
     "output_type": "display_data"
    }
   ],
   "source": [
    "# lets plot the graph for more clear understanding\n",
    "plt.figure(figsize=(10,8))\n",
    "col='v18q1'\n",
    "Train_income[col].value_counts().sort_index().plot.bar(color='green',\n",
    "                                                      edgecolor='k',linewidth=2)\n",
    "plt.xlabel('v18q1')\n",
    "plt.ylabel('count')\n",
    "plt.title(f'{col}Value Counts')\n",
    "plt.show()\n",
    "\n",
    "\n"
   ]
  },
  {
   "cell_type": "code",
   "execution_count": 26,
   "metadata": {},
   "outputs": [],
   "source": [
    "# lets replace Nan values with   0.\n",
    "for df in [Train_income, Test_income]:\n",
    "    df['v18q1'].fillna(value=0, inplace= True)\n",
    "    "
   ]
  },
  {
   "cell_type": "code",
   "execution_count": 27,
   "metadata": {},
   "outputs": [
    {
     "data": {
      "text/plain": [
       "v18q1    0\n",
       "dtype: int64"
      ]
     },
     "execution_count": 27,
     "metadata": {},
     "output_type": "execute_result"
    }
   ],
   "source": [
    "Train_income[['v18q1']].isnull().sum()"
   ]
  },
  {
   "cell_type": "code",
   "execution_count": 28,
   "metadata": {},
   "outputs": [
    {
     "data": {
      "text/plain": [
       "v18q1    0\n",
       "dtype: int64"
      ]
     },
     "execution_count": 28,
     "metadata": {},
     "output_type": "execute_result"
    }
   ],
   "source": [
    "Test_income[['v18q1']].isnull().sum()"
   ]
  },
  {
   "cell_type": "markdown",
   "metadata": {},
   "source": [
    "# lets do the same for rez_esc columns\n",
    "Lets look at rez_esc (total nulls: 7928) : Years behind in school\n",
    "why the null values, Lets look at few rows with nulls in rez_esc\n",
    "Columns related to Years behind in school\n",
    "\n",
    "age =Age in years\n",
    " \n",
    " \n",
    " the strongest relation is between the columns age and rez_esc"
   ]
  },
  {
   "cell_type": "code",
   "execution_count": 29,
   "metadata": {},
   "outputs": [
    {
     "data": {
      "text/plain": [
       "count    1629.000000\n",
       "mean       12.258441\n",
       "std         3.218325\n",
       "min         7.000000\n",
       "25%         9.000000\n",
       "50%        12.000000\n",
       "75%        15.000000\n",
       "max        17.000000\n",
       "Name: age, dtype: float64"
      ]
     },
     "execution_count": 29,
     "metadata": {},
     "output_type": "execute_result"
    }
   ],
   "source": [
    "Train_income[Train_income['rez_esc'].notnull()]['age'].describe()"
   ]
  },
  {
   "cell_type": "markdown",
   "metadata": {},
   "source": [
    "we can see that the minimum age is 7 years old and maximum age is 17, now we can rectify the null values and put zero values."
   ]
  },
  {
   "cell_type": "markdown",
   "metadata": {},
   "source": [
    "before filling the nan values lets find the age which is year behind the school"
   ]
  },
  {
   "cell_type": "code",
   "execution_count": 30,
   "metadata": {},
   "outputs": [
    {
     "data": {
      "text/plain": [
       "count     1.0\n",
       "mean     10.0\n",
       "std       NaN\n",
       "min      10.0\n",
       "25%      10.0\n",
       "50%      10.0\n",
       "75%      10.0\n",
       "max      10.0\n",
       "Name: age, dtype: float64"
      ]
     },
     "execution_count": 30,
     "metadata": {},
     "output_type": "execute_result"
    }
   ],
   "source": [
    "Train_income.loc[(Train_income['rez_esc'].isnull()&\n",
    "                  ((Train_income['age']>7)&(Train_income['age']<17)))]['age'].describe()"
   ]
  },
  {
   "cell_type": "markdown",
   "metadata": {},
   "source": [
    "There is one value that has Null for the 'behind in school' column with age between 7 and 17  i.e year 10."
   ]
  },
  {
   "cell_type": "code",
   "execution_count": 31,
   "metadata": {},
   "outputs": [
    {
     "data": {
      "text/html": [
       "<div>\n",
       "<style scoped>\n",
       "    .dataframe tbody tr th:only-of-type {\n",
       "        vertical-align: middle;\n",
       "    }\n",
       "\n",
       "    .dataframe tbody tr th {\n",
       "        vertical-align: top;\n",
       "    }\n",
       "\n",
       "    .dataframe thead th {\n",
       "        text-align: right;\n",
       "    }\n",
       "</style>\n",
       "<table border=\"1\" class=\"dataframe\">\n",
       "  <thead>\n",
       "    <tr style=\"text-align: right;\">\n",
       "      <th></th>\n",
       "      <th>v2a1</th>\n",
       "      <th>hacdor</th>\n",
       "      <th>rooms</th>\n",
       "      <th>hacapo</th>\n",
       "      <th>v14a</th>\n",
       "      <th>refrig</th>\n",
       "      <th>v18q</th>\n",
       "      <th>v18q1</th>\n",
       "      <th>r4h1</th>\n",
       "      <th>r4h2</th>\n",
       "      <th>...</th>\n",
       "      <th>SQBescolari</th>\n",
       "      <th>SQBage</th>\n",
       "      <th>SQBhogar_total</th>\n",
       "      <th>SQBedjefe</th>\n",
       "      <th>SQBhogar_nin</th>\n",
       "      <th>SQBovercrowding</th>\n",
       "      <th>SQBdependency</th>\n",
       "      <th>SQBmeaned</th>\n",
       "      <th>agesq</th>\n",
       "      <th>Target</th>\n",
       "    </tr>\n",
       "  </thead>\n",
       "  <tbody>\n",
       "    <tr>\n",
       "      <th>2514</th>\n",
       "      <td>160000.0</td>\n",
       "      <td>0</td>\n",
       "      <td>6</td>\n",
       "      <td>0</td>\n",
       "      <td>1</td>\n",
       "      <td>1</td>\n",
       "      <td>1</td>\n",
       "      <td>1.0</td>\n",
       "      <td>0</td>\n",
       "      <td>1</td>\n",
       "      <td>...</td>\n",
       "      <td>0</td>\n",
       "      <td>100</td>\n",
       "      <td>9</td>\n",
       "      <td>121</td>\n",
       "      <td>1</td>\n",
       "      <td>2.25</td>\n",
       "      <td>0.25</td>\n",
       "      <td>182.25</td>\n",
       "      <td>100</td>\n",
       "      <td>4</td>\n",
       "    </tr>\n",
       "  </tbody>\n",
       "</table>\n",
       "<p>1 rows × 142 columns</p>\n",
       "</div>"
      ],
      "text/plain": [
       "          v2a1  hacdor  rooms  hacapo  v14a  refrig  v18q  v18q1  r4h1  r4h2  \\\n",
       "2514  160000.0       0      6       0     1       1     1    1.0     0     1   \n",
       "\n",
       "      ...  SQBescolari  SQBage  SQBhogar_total  SQBedjefe  SQBhogar_nin  \\\n",
       "2514  ...            0     100               9        121             1   \n",
       "\n",
       "      SQBovercrowding  SQBdependency  SQBmeaned  agesq  Target  \n",
       "2514             2.25           0.25     182.25    100       4  \n",
       "\n",
       "[1 rows x 142 columns]"
      ]
     },
     "execution_count": 31,
     "metadata": {},
     "output_type": "execute_result"
    }
   ],
   "source": [
    "Train_income[(Train_income['age']==10) &(Train_income['rez_esc'].isnull())].head()"
   ]
  },
  {
   "cell_type": "markdown",
   "metadata": {},
   "source": [
    "lets fill with zero."
   ]
  },
  {
   "cell_type": "code",
   "execution_count": 32,
   "metadata": {},
   "outputs": [],
   "source": [
    "for df in [Train_income,Test_income]:\n",
    "    df['rez_esc'].fillna(0, inplace =True)\n",
    "    "
   ]
  },
  {
   "cell_type": "code",
   "execution_count": 33,
   "metadata": {},
   "outputs": [
    {
     "data": {
      "text/plain": [
       "rez_esc    0\n",
       "dtype: int64"
      ]
     },
     "execution_count": 33,
     "metadata": {},
     "output_type": "execute_result"
    }
   ],
   "source": [
    "Train_income[['rez_esc']].isnull().sum()"
   ]
  },
  {
   "cell_type": "code",
   "execution_count": 34,
   "metadata": {},
   "outputs": [
    {
     "data": {
      "text/plain": [
       "rez_esc    0\n",
       "dtype: int64"
      ]
     },
     "execution_count": 34,
     "metadata": {},
     "output_type": "execute_result"
    }
   ],
   "source": [
    "Test_income[['rez_esc']].isnull().sum()"
   ]
  },
  {
   "cell_type": "markdown",
   "metadata": {},
   "source": [
    "# Lets look at meaneduc (total nulls: 5) : \n",
    "average years of education for adults (18+)\n",
    "why the null values, Lets look at few rows with nulls in meaneduc\n",
    "Columns related to average years of education for adults (18+)\n",
    "\n",
    "edjefe, years of education of male head of household, based on the interaction of escolari (years of education),\n",
    "head of household and gender, yes=1 and no=0\n",
    "\n",
    "edjefa, years of education of female head of household, based on the interaction of escolari (years of education),\n",
    "head of household and gender, yes=1 and no=0\n",
    "\n",
    "instlevel1, =1 no level of education\n",
    "\n",
    "instlevel2, =1 incomplete primary"
   ]
  },
  {
   "cell_type": "code",
   "execution_count": 35,
   "metadata": {},
   "outputs": [
    {
     "data": {
      "text/html": [
       "<div>\n",
       "<style scoped>\n",
       "    .dataframe tbody tr th:only-of-type {\n",
       "        vertical-align: middle;\n",
       "    }\n",
       "\n",
       "    .dataframe tbody tr th {\n",
       "        vertical-align: top;\n",
       "    }\n",
       "\n",
       "    .dataframe thead th {\n",
       "        text-align: right;\n",
       "    }\n",
       "</style>\n",
       "<table border=\"1\" class=\"dataframe\">\n",
       "  <thead>\n",
       "    <tr style=\"text-align: right;\">\n",
       "      <th></th>\n",
       "      <th>instlevel1</th>\n",
       "      <th>instlevel2</th>\n",
       "    </tr>\n",
       "  </thead>\n",
       "  <tbody>\n",
       "    <tr>\n",
       "      <th>count</th>\n",
       "      <td>0.0</td>\n",
       "      <td>0.0</td>\n",
       "    </tr>\n",
       "    <tr>\n",
       "      <th>mean</th>\n",
       "      <td>NaN</td>\n",
       "      <td>NaN</td>\n",
       "    </tr>\n",
       "    <tr>\n",
       "      <th>std</th>\n",
       "      <td>NaN</td>\n",
       "      <td>NaN</td>\n",
       "    </tr>\n",
       "    <tr>\n",
       "      <th>min</th>\n",
       "      <td>NaN</td>\n",
       "      <td>NaN</td>\n",
       "    </tr>\n",
       "    <tr>\n",
       "      <th>25%</th>\n",
       "      <td>NaN</td>\n",
       "      <td>NaN</td>\n",
       "    </tr>\n",
       "    <tr>\n",
       "      <th>50%</th>\n",
       "      <td>NaN</td>\n",
       "      <td>NaN</td>\n",
       "    </tr>\n",
       "    <tr>\n",
       "      <th>75%</th>\n",
       "      <td>NaN</td>\n",
       "      <td>NaN</td>\n",
       "    </tr>\n",
       "    <tr>\n",
       "      <th>max</th>\n",
       "      <td>NaN</td>\n",
       "      <td>NaN</td>\n",
       "    </tr>\n",
       "  </tbody>\n",
       "</table>\n",
       "</div>"
      ],
      "text/plain": [
       "       instlevel1  instlevel2\n",
       "count         0.0         0.0\n",
       "mean          NaN         NaN\n",
       "std           NaN         NaN\n",
       "min           NaN         NaN\n",
       "25%           NaN         NaN\n",
       "50%           NaN         NaN\n",
       "75%           NaN         NaN\n",
       "max           NaN         NaN"
      ]
     },
     "execution_count": 35,
     "metadata": {},
     "output_type": "execute_result"
    }
   ],
   "source": [
    "data=Train_income[Train_income['meaneduc'].isnull()].head()\n",
    "col=['edjefa','edjefe','instlevel1','instlevel2']\n",
    "data[col][data[col]['instlevel1']>0].describe()"
   ]
  },
  {
   "cell_type": "code",
   "execution_count": 36,
   "metadata": {},
   "outputs": [],
   "source": [
    "for df in [Train_income,Test_income]:\n",
    "    df['meaneduc'].fillna(np.mean (df['meaneduc']),inplace= True)"
   ]
  },
  {
   "cell_type": "code",
   "execution_count": 37,
   "metadata": {},
   "outputs": [
    {
     "data": {
      "text/plain": [
       "meaneduc    0\n",
       "dtype: int64"
      ]
     },
     "execution_count": 37,
     "metadata": {},
     "output_type": "execute_result"
    }
   ],
   "source": [
    "Train_income[['meaneduc']].isnull().sum()"
   ]
  },
  {
   "cell_type": "code",
   "execution_count": 38,
   "metadata": {},
   "outputs": [
    {
     "data": {
      "text/plain": [
       "meaneduc    0\n",
       "dtype: int64"
      ]
     },
     "execution_count": 38,
     "metadata": {},
     "output_type": "execute_result"
    }
   ],
   "source": [
    "Test_income[['meaneduc']].isnull().sum()"
   ]
  },
  {
   "cell_type": "markdown",
   "metadata": {},
   "source": [
    "# Lets look at SQBmeaned (total nulls: 5) :\n",
    "\n",
    "square of the mean years of education of adults (>=18) in the household 142\n",
    "why the null values, Lets look at few rows with nulls in SQBmeaned\n",
    "Columns related to average years of education for adults (18+)\n",
    "edjefe, years of education of male head of household, based on the interaction of escolari (years of education),\n",
    "head of household and gender, yes=1 and no=0\n",
    "edjefa, years of education of female head of household, based on the interaction of escolari (years of education),\n",
    "head of household and gender, yes=1 and no=0\n",
    "instlevel1, =1 no level of education\n",
    "instlevel2, =1 incomplete primary"
   ]
  },
  {
   "cell_type": "code",
   "execution_count": 39,
   "metadata": {},
   "outputs": [
    {
     "data": {
      "text/html": [
       "<div>\n",
       "<style scoped>\n",
       "    .dataframe tbody tr th:only-of-type {\n",
       "        vertical-align: middle;\n",
       "    }\n",
       "\n",
       "    .dataframe tbody tr th {\n",
       "        vertical-align: top;\n",
       "    }\n",
       "\n",
       "    .dataframe thead th {\n",
       "        text-align: right;\n",
       "    }\n",
       "</style>\n",
       "<table border=\"1\" class=\"dataframe\">\n",
       "  <thead>\n",
       "    <tr style=\"text-align: right;\">\n",
       "      <th></th>\n",
       "      <th>instlevel1</th>\n",
       "      <th>instlevel2</th>\n",
       "    </tr>\n",
       "  </thead>\n",
       "  <tbody>\n",
       "    <tr>\n",
       "      <th>count</th>\n",
       "      <td>0.0</td>\n",
       "      <td>0.0</td>\n",
       "    </tr>\n",
       "    <tr>\n",
       "      <th>mean</th>\n",
       "      <td>NaN</td>\n",
       "      <td>NaN</td>\n",
       "    </tr>\n",
       "    <tr>\n",
       "      <th>std</th>\n",
       "      <td>NaN</td>\n",
       "      <td>NaN</td>\n",
       "    </tr>\n",
       "    <tr>\n",
       "      <th>min</th>\n",
       "      <td>NaN</td>\n",
       "      <td>NaN</td>\n",
       "    </tr>\n",
       "    <tr>\n",
       "      <th>25%</th>\n",
       "      <td>NaN</td>\n",
       "      <td>NaN</td>\n",
       "    </tr>\n",
       "    <tr>\n",
       "      <th>50%</th>\n",
       "      <td>NaN</td>\n",
       "      <td>NaN</td>\n",
       "    </tr>\n",
       "    <tr>\n",
       "      <th>75%</th>\n",
       "      <td>NaN</td>\n",
       "      <td>NaN</td>\n",
       "    </tr>\n",
       "    <tr>\n",
       "      <th>max</th>\n",
       "      <td>NaN</td>\n",
       "      <td>NaN</td>\n",
       "    </tr>\n",
       "  </tbody>\n",
       "</table>\n",
       "</div>"
      ],
      "text/plain": [
       "       instlevel1  instlevel2\n",
       "count         0.0         0.0\n",
       "mean          NaN         NaN\n",
       "std           NaN         NaN\n",
       "min           NaN         NaN\n",
       "25%           NaN         NaN\n",
       "50%           NaN         NaN\n",
       "75%           NaN         NaN\n",
       "max           NaN         NaN"
      ]
     },
     "execution_count": 39,
     "metadata": {},
     "output_type": "execute_result"
    }
   ],
   "source": [
    "data = Train_income[Train_income['SQBmeaned'].isnull()].head()\n",
    "col= ['edjefe','edjefa','instlevel1','instlevel2']\n",
    "data[col][data[col]['instlevel1']>0].describe()"
   ]
  },
  {
   "cell_type": "code",
   "execution_count": 40,
   "metadata": {},
   "outputs": [],
   "source": [
    "for df in [Train_income,Test_income]:\n",
    "    df['SQBmeaned'].fillna(np.mean(df['SQBmeaned']), inplace=True)"
   ]
  },
  {
   "cell_type": "code",
   "execution_count": 41,
   "metadata": {},
   "outputs": [
    {
     "data": {
      "text/plain": [
       "0"
      ]
     },
     "execution_count": 41,
     "metadata": {},
     "output_type": "execute_result"
    }
   ],
   "source": [
    "Train_income['SQBmeaned'].isnull().sum()"
   ]
  },
  {
   "cell_type": "code",
   "execution_count": 42,
   "metadata": {},
   "outputs": [
    {
     "data": {
      "text/plain": [
       "0"
      ]
     },
     "execution_count": 42,
     "metadata": {},
     "output_type": "execute_result"
    }
   ],
   "source": [
    "Test_income['SQBmeaned'].isnull().sum()"
   ]
  },
  {
   "cell_type": "code",
   "execution_count": 43,
   "metadata": {},
   "outputs": [
    {
     "data": {
      "text/plain": [
       "0"
      ]
     },
     "execution_count": 43,
     "metadata": {},
     "output_type": "execute_result"
    }
   ],
   "source": [
    "null_count=Train_income.select_dtypes('float64').isnull().sum()\n",
    "null_count.isna().sum()"
   ]
  },
  {
   "cell_type": "markdown",
   "metadata": {},
   "source": [
    "We finally sort the nan values for all the columns."
   ]
  },
  {
   "cell_type": "markdown",
   "metadata": {},
   "source": [
    "## Check if there are any biases in your dataset."
   ]
  },
  {
   "cell_type": "code",
   "execution_count": 44,
   "metadata": {},
   "outputs": [
    {
     "data": {
      "text/plain": [
       "yes           2192\n",
       "no            1747\n",
       "0.5           1497\n",
       "2              730\n",
       "1.5            713\n",
       "0.33333334     598\n",
       "0.66666669     487\n",
       "8              378\n",
       "0.25           260\n",
       "3              236\n",
       "4              100\n",
       "0.75            98\n",
       "0.2             90\n",
       "0.40000001      84\n",
       "1.3333334       84\n",
       "2.5             77\n",
       "5               24\n",
       "1.25            18\n",
       "0.80000001      18\n",
       "3.5             18\n",
       "2.25            13\n",
       "0.71428573      12\n",
       "1.75            11\n",
       "1.2             11\n",
       "0.22222222      11\n",
       "0.83333331      11\n",
       "0.2857143        9\n",
       "0.60000002       8\n",
       "1.6666666        8\n",
       "6                7\n",
       "0.16666667       7\n",
       "Name: dependency, dtype: int64"
      ]
     },
     "execution_count": 44,
     "metadata": {},
     "output_type": "execute_result"
    }
   ],
   "source": [
    "Train_income['dependency'].value_counts()"
   ]
  },
  {
   "cell_type": "markdown",
   "metadata": {},
   "source": [
    "we can see that in the above column bias datasets are avaliable, let us fix this mixed datasets. "
   ]
  },
  {
   "cell_type": "code",
   "execution_count": 45,
   "metadata": {},
   "outputs": [
    {
     "data": {
      "text/plain": [
       "no     3762\n",
       "6      1845\n",
       "11      751\n",
       "9       486\n",
       "3       307\n",
       "15      285\n",
       "8       257\n",
       "7       234\n",
       "5       222\n",
       "14      208\n",
       "17      202\n",
       "2       194\n",
       "4       137\n",
       "16      134\n",
       "yes     123\n",
       "12      113\n",
       "10      111\n",
       "13      103\n",
       "21       43\n",
       "18       19\n",
       "19       14\n",
       "20        7\n",
       "Name: edjefe, dtype: int64"
      ]
     },
     "execution_count": 45,
     "metadata": {},
     "output_type": "execute_result"
    }
   ],
   "source": [
    "Train_income['edjefe'].value_counts()"
   ]
  },
  {
   "cell_type": "code",
   "execution_count": 46,
   "metadata": {},
   "outputs": [
    {
     "data": {
      "text/plain": [
       "no     6230\n",
       "6       947\n",
       "11      399\n",
       "9       237\n",
       "8       217\n",
       "15      188\n",
       "7       179\n",
       "5       176\n",
       "3       152\n",
       "4       136\n",
       "14      120\n",
       "16      113\n",
       "10       96\n",
       "2        84\n",
       "17       76\n",
       "12       72\n",
       "yes      69\n",
       "13       52\n",
       "21        5\n",
       "19        4\n",
       "18        3\n",
       "20        2\n",
       "Name: edjefa, dtype: int64"
      ]
     },
     "execution_count": 46,
     "metadata": {},
     "output_type": "execute_result"
    }
   ],
   "source": [
    "Train_income['edjefa'].value_counts()"
   ]
  },
  {
   "cell_type": "markdown",
   "metadata": {},
   "source": [
    "lets replace Yes nd NO with Binary 1 and 0 respectively."
   ]
  },
  {
   "cell_type": "code",
   "execution_count": 47,
   "metadata": {},
   "outputs": [
    {
     "data": {
      "text/html": [
       "<div>\n",
       "<style scoped>\n",
       "    .dataframe tbody tr th:only-of-type {\n",
       "        vertical-align: middle;\n",
       "    }\n",
       "\n",
       "    .dataframe tbody tr th {\n",
       "        vertical-align: top;\n",
       "    }\n",
       "\n",
       "    .dataframe thead th {\n",
       "        text-align: right;\n",
       "    }\n",
       "</style>\n",
       "<table border=\"1\" class=\"dataframe\">\n",
       "  <thead>\n",
       "    <tr style=\"text-align: right;\">\n",
       "      <th></th>\n",
       "      <th>dependency</th>\n",
       "      <th>edjefe</th>\n",
       "      <th>edjefa</th>\n",
       "    </tr>\n",
       "  </thead>\n",
       "  <tbody>\n",
       "    <tr>\n",
       "      <th>count</th>\n",
       "      <td>9557.000000</td>\n",
       "      <td>9557.000000</td>\n",
       "      <td>9557.000000</td>\n",
       "    </tr>\n",
       "    <tr>\n",
       "      <th>mean</th>\n",
       "      <td>1.149550</td>\n",
       "      <td>5.096788</td>\n",
       "      <td>2.896830</td>\n",
       "    </tr>\n",
       "    <tr>\n",
       "      <th>std</th>\n",
       "      <td>1.605993</td>\n",
       "      <td>5.246513</td>\n",
       "      <td>4.612056</td>\n",
       "    </tr>\n",
       "    <tr>\n",
       "      <th>min</th>\n",
       "      <td>0.000000</td>\n",
       "      <td>0.000000</td>\n",
       "      <td>0.000000</td>\n",
       "    </tr>\n",
       "    <tr>\n",
       "      <th>25%</th>\n",
       "      <td>0.333333</td>\n",
       "      <td>0.000000</td>\n",
       "      <td>0.000000</td>\n",
       "    </tr>\n",
       "    <tr>\n",
       "      <th>50%</th>\n",
       "      <td>0.666667</td>\n",
       "      <td>6.000000</td>\n",
       "      <td>0.000000</td>\n",
       "    </tr>\n",
       "    <tr>\n",
       "      <th>75%</th>\n",
       "      <td>1.333333</td>\n",
       "      <td>9.000000</td>\n",
       "      <td>6.000000</td>\n",
       "    </tr>\n",
       "    <tr>\n",
       "      <th>max</th>\n",
       "      <td>8.000000</td>\n",
       "      <td>21.000000</td>\n",
       "      <td>21.000000</td>\n",
       "    </tr>\n",
       "  </tbody>\n",
       "</table>\n",
       "</div>"
      ],
      "text/plain": [
       "        dependency       edjefe       edjefa\n",
       "count  9557.000000  9557.000000  9557.000000\n",
       "mean      1.149550     5.096788     2.896830\n",
       "std       1.605993     5.246513     4.612056\n",
       "min       0.000000     0.000000     0.000000\n",
       "25%       0.333333     0.000000     0.000000\n",
       "50%       0.666667     6.000000     0.000000\n",
       "75%       1.333333     9.000000     6.000000\n",
       "max       8.000000    21.000000    21.000000"
      ]
     },
     "execution_count": 47,
     "metadata": {},
     "output_type": "execute_result"
    }
   ],
   "source": [
    "mapping={'yes':1,'no':0}\n",
    "\n",
    "for df in [Train_income, Test_income]:\n",
    "    df['dependency'] =df['dependency'].replace(mapping).astype(np.float64)\n",
    "    df['edjefe'] =df['edjefe'].replace(mapping).astype(np.float64)\n",
    "    df['edjefa'] =df['edjefa'].replace(mapping).astype(np.float64)\n",
    "    \n",
    "Train_income[['dependency','edjefe','edjefa']].describe()"
   ]
  },
  {
   "cell_type": "code",
   "execution_count": 48,
   "metadata": {},
   "outputs": [],
   "source": [
    "def map(i):\n",
    "    \n",
    "    if i=='yes':\n",
    "        return(float(1))\n",
    "    elif i=='no':\n",
    "        return(float(0))\n",
    "    else:\n",
    "        return(float(i))"
   ]
  },
  {
   "cell_type": "code",
   "execution_count": 49,
   "metadata": {},
   "outputs": [],
   "source": [
    "Train_income['dependency']=Train_income['dependency'].apply(map)\n",
    "Train_income['edjefe'] =Train_income['edjefe'].apply(map)\n",
    "Train_income['edjefa']=Train_income['edjefa'].apply(map)"
   ]
  },
  {
   "cell_type": "code",
   "execution_count": 50,
   "metadata": {},
   "outputs": [
    {
     "data": {
      "text/plain": [
       "0       0.00\n",
       "1       8.00\n",
       "2       8.00\n",
       "3       1.00\n",
       "4       1.00\n",
       "        ... \n",
       "9552    0.25\n",
       "9553    0.25\n",
       "9554    0.25\n",
       "9555    0.25\n",
       "9556    0.25\n",
       "Name: dependency, Length: 9557, dtype: float64"
      ]
     },
     "execution_count": 50,
     "metadata": {},
     "output_type": "execute_result"
    }
   ],
   "source": [
    "Train_income['dependency']"
   ]
  },
  {
   "cell_type": "code",
   "execution_count": 51,
   "metadata": {},
   "outputs": [
    {
     "data": {
      "text/plain": [
       "0       10.0\n",
       "1       12.0\n",
       "2        0.0\n",
       "3       11.0\n",
       "4       11.0\n",
       "        ... \n",
       "9552     9.0\n",
       "9553     9.0\n",
       "9554     9.0\n",
       "9555     9.0\n",
       "9556     9.0\n",
       "Name: edjefe, Length: 9557, dtype: float64"
      ]
     },
     "execution_count": 51,
     "metadata": {},
     "output_type": "execute_result"
    }
   ],
   "source": [
    "Train_income.edjefe"
   ]
  },
  {
   "cell_type": "code",
   "execution_count": 52,
   "metadata": {},
   "outputs": [
    {
     "data": {
      "text/plain": [
       "0        0.0\n",
       "1        0.0\n",
       "2       11.0\n",
       "3        0.0\n",
       "4        0.0\n",
       "        ... \n",
       "9552     0.0\n",
       "9553     0.0\n",
       "9554     0.0\n",
       "9555     0.0\n",
       "9556     0.0\n",
       "Name: edjefa, Length: 9557, dtype: float64"
      ]
     },
     "execution_count": 52,
     "metadata": {},
     "output_type": "execute_result"
    }
   ],
   "source": [
    "Train_income.edjefa"
   ]
  },
  {
   "cell_type": "markdown",
   "metadata": {},
   "source": [
    "Similarly apply all for test data set :"
   ]
  },
  {
   "cell_type": "code",
   "execution_count": 53,
   "metadata": {},
   "outputs": [
    {
     "data": {
      "text/plain": [
       "0        0.5\n",
       "1        0.5\n",
       "2        0.5\n",
       "3        0.0\n",
       "4        8.0\n",
       "        ... \n",
       "23851    0.5\n",
       "23852    1.0\n",
       "23853    1.0\n",
       "23854    1.0\n",
       "23855    1.0\n",
       "Name: dependency, Length: 23856, dtype: float64"
      ]
     },
     "execution_count": 53,
     "metadata": {},
     "output_type": "execute_result"
    }
   ],
   "source": [
    "Test_income.dependency"
   ]
  },
  {
   "cell_type": "code",
   "execution_count": 54,
   "metadata": {},
   "outputs": [
    {
     "data": {
      "text/plain": [
       "0         0.0\n",
       "1         0.0\n",
       "2         0.0\n",
       "3        16.0\n",
       "4         0.0\n",
       "         ... \n",
       "23851     5.0\n",
       "23852     6.0\n",
       "23853     6.0\n",
       "23854     6.0\n",
       "23855     6.0\n",
       "Name: edjefe, Length: 23856, dtype: float64"
      ]
     },
     "execution_count": 54,
     "metadata": {},
     "output_type": "execute_result"
    }
   ],
   "source": [
    "Test_income.edjefe"
   ]
  },
  {
   "cell_type": "code",
   "execution_count": 55,
   "metadata": {},
   "outputs": [
    {
     "data": {
      "text/plain": [
       "0        17.0\n",
       "1        17.0\n",
       "2        17.0\n",
       "3         0.0\n",
       "4        11.0\n",
       "         ... \n",
       "23851     0.0\n",
       "23852     0.0\n",
       "23853     0.0\n",
       "23854     0.0\n",
       "23855     0.0\n",
       "Name: edjefa, Length: 23856, dtype: float64"
      ]
     },
     "execution_count": 55,
     "metadata": {},
     "output_type": "execute_result"
    }
   ],
   "source": [
    "Test_income.edjefa"
   ]
  },
  {
   "cell_type": "markdown",
   "metadata": {},
   "source": [
    "## Use the chi2_contingency to predict the accurate biases between the columns,\n",
    "\n",
    "hence according to the data we have the region popultion grows and pverty declines \n",
    "consist of following linked columns:\n",
    "    v2a1 =monnthly rent payment\n",
    "    \n",
    "    v18q1 Columns related to number of tablets household owns v18q, owns a tablet\n",
    "    r4h3 = total males head in the household \n",
    "    \n",
    "    r4h3 = total females head in the household.\n",
    "    r4t3 = total persons in household\n",
    "    \n",
    "    tamhog =size of household\n",
    "    tamviv =number of persons living in household\n",
    "    rez_esc = years behind in school \n",
    "    \n",
    "    hhsize = household size \n",
    "    parentesco1 = 1 household head\n",
    "    \n",
    "    idhogar = household level identifier \n",
    "    \n",
    "    hogar_total= total individual in the household.\n",
    "    \n",
    "    edejefa = years of education of male head of the household \n",
    "    \n",
    "    edefe= years of education of female head of household\n",
    "    \n",
    "    meaneduc = average years of education for adults +18 \n",
    "    \n",
    "    instlelvel1 =  no level of education \n",
    "    \n",
    "    instlevel2 = incomplete primary \n",
    "    tipoviv1 = own, and fully paid use \n",
    "    \n",
    "    tipoviv2 =own . paying in installment \n",
    "    \n",
    "    tipoviv3= 1 rented \n",
    "    \n",
    "    tipoviv4= 1 precarious \n",
    "     tipoviv5= 1 other (assigned borrowed)\n",
    "        \n",
    "        area1= 1 zon urban \n",
    "        \n",
    "        area2 = 2 zona rural\n",
    "        \n",
    "        age = age in years \n",
    "        "
   ]
  },
  {
   "cell_type": "code",
   "execution_count": 56,
   "metadata": {},
   "outputs": [],
   "source": [
    "import scipy \n",
    "from scipy.stats import chi2_contingency "
   ]
  },
  {
   "cell_type": "code",
   "execution_count": 57,
   "metadata": {},
   "outputs": [
    {
     "data": {
      "text/html": [
       "<div>\n",
       "<style scoped>\n",
       "    .dataframe tbody tr th:only-of-type {\n",
       "        vertical-align: middle;\n",
       "    }\n",
       "\n",
       "    .dataframe tbody tr th {\n",
       "        vertical-align: top;\n",
       "    }\n",
       "\n",
       "    .dataframe thead th {\n",
       "        text-align: right;\n",
       "    }\n",
       "</style>\n",
       "<table border=\"1\" class=\"dataframe\">\n",
       "  <thead>\n",
       "    <tr style=\"text-align: right;\">\n",
       "      <th>tipovivi1</th>\n",
       "      <th>0</th>\n",
       "      <th>1</th>\n",
       "    </tr>\n",
       "    <tr>\n",
       "      <th>v2a1</th>\n",
       "      <th></th>\n",
       "      <th></th>\n",
       "    </tr>\n",
       "  </thead>\n",
       "  <tbody>\n",
       "    <tr>\n",
       "      <th>0.0</th>\n",
       "      <td>978</td>\n",
       "      <td>5911</td>\n",
       "    </tr>\n",
       "    <tr>\n",
       "      <th>12000.0</th>\n",
       "      <td>3</td>\n",
       "      <td>0</td>\n",
       "    </tr>\n",
       "    <tr>\n",
       "      <th>13000.0</th>\n",
       "      <td>4</td>\n",
       "      <td>0</td>\n",
       "    </tr>\n",
       "    <tr>\n",
       "      <th>14000.0</th>\n",
       "      <td>3</td>\n",
       "      <td>0</td>\n",
       "    </tr>\n",
       "    <tr>\n",
       "      <th>15000.0</th>\n",
       "      <td>3</td>\n",
       "      <td>0</td>\n",
       "    </tr>\n",
       "    <tr>\n",
       "      <th>...</th>\n",
       "      <td>...</td>\n",
       "      <td>...</td>\n",
       "    </tr>\n",
       "    <tr>\n",
       "      <th>770229.0</th>\n",
       "      <td>3</td>\n",
       "      <td>0</td>\n",
       "    </tr>\n",
       "    <tr>\n",
       "      <th>800000.0</th>\n",
       "      <td>4</td>\n",
       "      <td>0</td>\n",
       "    </tr>\n",
       "    <tr>\n",
       "      <th>855810.0</th>\n",
       "      <td>11</td>\n",
       "      <td>0</td>\n",
       "    </tr>\n",
       "    <tr>\n",
       "      <th>1000000.0</th>\n",
       "      <td>7</td>\n",
       "      <td>0</td>\n",
       "    </tr>\n",
       "    <tr>\n",
       "      <th>2353477.0</th>\n",
       "      <td>2</td>\n",
       "      <td>0</td>\n",
       "    </tr>\n",
       "  </tbody>\n",
       "</table>\n",
       "<p>157 rows × 2 columns</p>\n",
       "</div>"
      ],
      "text/plain": [
       "tipovivi1    0     1\n",
       "v2a1                \n",
       "0.0        978  5911\n",
       "12000.0      3     0\n",
       "13000.0      4     0\n",
       "14000.0      3     0\n",
       "15000.0      3     0\n",
       "...        ...   ...\n",
       "770229.0     3     0\n",
       "800000.0     4     0\n",
       "855810.0    11     0\n",
       "1000000.0    7     0\n",
       "2353477.0    2     0\n",
       "\n",
       "[157 rows x 2 columns]"
      ]
     },
     "execution_count": 57,
     "metadata": {},
     "output_type": "execute_result"
    }
   ],
   "source": [
    "# find the biases between v2a1(Monthly rent payment) and tipovivi1(fully paid owned house)\n",
    "contingency_tab = pd.crosstab(Train_income['v2a1'],Train_income['tipovivi1'] )\n",
    "contingency_tab"
   ]
  },
  {
   "cell_type": "code",
   "execution_count": 58,
   "metadata": {},
   "outputs": [
    {
     "name": "stdout",
     "output_type": "stream",
     "text": [
      "Degree of Freedom: 1\n"
     ]
    }
   ],
   "source": [
    "observed_values =contingency_tab.values\n",
    "b =chi2_contingency(contingency_tab)\n",
    "expected_values=b[3]\n",
    "no_of_rows =len(contingency_tab.iloc[0:2,0])\n",
    "no_of_col =len(contingency_tab.iloc[0,0:2])\n",
    "df= (no_of_rows-1)*(no_of_col-1)\n",
    "print(\"Degree of Freedom:\",df)\n"
   ]
  },
  {
   "cell_type": "code",
   "execution_count": 59,
   "metadata": {},
   "outputs": [
    {
     "name": "stdout",
     "output_type": "stream",
     "text": [
      "Chi_square_statistics 6000.61165967958\n"
     ]
    }
   ],
   "source": [
    "from scipy.stats import chi2\n",
    "chi_square =sum([(o-e)**2./e for o,e in zip(observed_values,expected_values)])\n",
    "chi_square_statistic =chi_square[0]+chi_square[1]\n",
    "print(\"Chi_square_statistics\", chi_square_statistic)"
   ]
  },
  {
   "cell_type": "code",
   "execution_count": 60,
   "metadata": {},
   "outputs": [
    {
     "name": "stdout",
     "output_type": "stream",
     "text": [
      "critical values: 3.841458820694124\n"
     ]
    }
   ],
   "source": [
    "# check for the critical value\n",
    "alpha=0.05\n",
    "critical_value =chi2.ppf(q=1-alpha,df=df)\n",
    "print(\"critical values:\",critical_value)"
   ]
  },
  {
   "cell_type": "code",
   "execution_count": 61,
   "metadata": {},
   "outputs": [
    {
     "name": "stdout",
     "output_type": "stream",
     "text": [
      "p value 0.0\n",
      "significance level: 0.05\n",
      "degree of freedom 1\n",
      "chi-square statistics 6000.61165967958\n",
      "critical value 3.841458820694124\n",
      "P value 0.0\n",
      "Reject H0,There is a relationship between 2 categorical variables\n",
      "Reject H0,There is a relationship between 2 categorical variables\n"
     ]
    }
   ],
   "source": [
    "# find the p value for prediction the bias hypothesis\n",
    "p_value=1-chi2.cdf(x=chi_square_statistic,df=df)\n",
    "print(\"p value\",p_value)\n",
    "print(\"significance level:\",alpha)\n",
    "print(\"degree of freedom\",df)\n",
    "print(\"chi-square statistics\",chi_square_statistic)\n",
    "print(\"critical value\",critical_value)\n",
    "print(\"P value\",p_value)\n",
    "if chi_square_statistic>=critical_value:\n",
    "    print(\"Reject H0,There is a relationship between 2 categorical variables\")\n",
    "else:\n",
    "    print(\"Retain H0,There is no relationship between 2 categorical variables\")\n",
    "    \n",
    "if p_value<=alpha:\n",
    "    print(\"Reject H0,There is a relationship between 2 categorical variables\")\n",
    "else:\n",
    "    print(\"Retain H0,There is no relationship between 2 categorical variables\")"
   ]
  },
  {
   "cell_type": "code",
   "execution_count": 62,
   "metadata": {},
   "outputs": [
    {
     "name": "stdout",
     "output_type": "stream",
     "text": [
      "Degree of Freedom:- 1\n",
      "chi-square statistic:- 331.6841063892792\n",
      "critical_value: 3.841458820694124\n",
      "p-value: 0.0\n",
      "Significance level:  0.05\n",
      "Degree of Freedom:  1\n",
      "chi-square statistic: 331.6841063892792\n",
      "critical_value: 3.841458820694124\n",
      "p-value: 0.0\n",
      "Reject H0,There is a relationship between 2 categorical variables\n",
      "Reject H0,There is a relationship between 2 categorical variables\n"
     ]
    }
   ],
   "source": [
    "# lets find the relationship between monthly rent \n",
    "#v2a1 and tipovivi3 ,tipovivi2,tipovivi4 and tipovivi5\n",
    "contingency_tab=pd.crosstab(Train_income['v2a1'],Train_income['tipovivi5'])\n",
    "Observed_Values=contingency_tab.values\n",
    "import scipy.stats\n",
    "b=scipy.stats.chi2_contingency(contingency_tab)\n",
    "Expected_Values = b[3]\n",
    "no_of_rows=len(contingency_tab.iloc[0:2,0])\n",
    "no_of_columns=len(contingency_tab.iloc[0,0:2])\n",
    "df=(no_of_rows-1)*(no_of_columns-1)\n",
    "print(\"Degree of Freedom:-\",df)\n",
    "from scipy.stats import chi2\n",
    "chi_square=sum([(o-e)**2./e for o,e in zip(Observed_Values,Expected_Values)])\n",
    "chi_square_statistic=chi_square[0]+chi_square[1]\n",
    "print(\"chi-square statistic:-\",chi_square_statistic)\n",
    "alpha=0.05\n",
    "critical_value=chi2.ppf(q=1-alpha,df=df)\n",
    "print('critical_value:',critical_value)\n",
    "p_value=1-chi2.cdf(x=chi_square_statistic,df=df)\n",
    "print('p-value:',p_value)\n",
    "print('Significance level: ',alpha)\n",
    "print('Degree of Freedom: ',df)\n",
    "print('chi-square statistic:',chi_square_statistic)\n",
    "print('critical_value:',critical_value)\n",
    "print('p-value:',p_value)\n",
    "if chi_square_statistic>=critical_value:\n",
    "    print(\"Reject H0,There is a relationship between 2 categorical variables\")\n",
    "else:\n",
    "    print(\"Retain H0,There is no relationship between 2 categorical variables\")\n",
    "    \n",
    "if p_value<=alpha:\n",
    "    print(\"Reject H0,There is a relationship between 2 categorical variables\")\n",
    "else:\n",
    "    print(\"Retain H0,There is no relationship between 2 categorical variables\")"
   ]
  },
  {
   "cell_type": "markdown",
   "metadata": {},
   "source": [
    "we have seen that v2a1 and  tipovivi1,tipovivi2,tipovivi3 has a relationship which shows that it has a biased datasets."
   ]
  },
  {
   "cell_type": "code",
   "execution_count": 63,
   "metadata": {},
   "outputs": [
    {
     "name": "stdout",
     "output_type": "stream",
     "text": [
      "Degree of Freedom:- 1\n",
      "chi-square statistic:- 1403.0430186768194\n",
      "critical_value: 3.841458820694124\n",
      "p-value: 0.0\n",
      "Significance level:  0.05\n",
      "Degree of Freedom:  1\n",
      "chi-square statistic: 1403.0430186768194\n",
      "critical_value: 3.841458820694124\n",
      "p-value: 0.0\n",
      "Reject H0,There is a relationship between 2 categorical variables\n",
      "Reject H0,There is a relationship between 2 categorical variables\n"
     ]
    }
   ],
   "source": [
    " # lets find the relationship between parentesco1 = 1 household head, hogar_total= total individual in the household,\n",
    "#r4h3 = total males head in the household \n",
    "#r4h3 = total females head in the household.\n",
    "#r4t3 = total persons in household\n",
    "#tamhog =size of household\n",
    "#tamviv =number of persons living in household \n",
    "\n",
    "contingency_tab=pd.crosstab(Train_income['r4t3'],Train_income['parentesco1'])\n",
    "Observed_Values=contingency_tab.values\n",
    "import scipy.stats\n",
    "b=scipy.stats.chi2_contingency(contingency_tab)\n",
    "Expected_Values = b[3]\n",
    "no_of_rows=len(contingency_tab.iloc[0:2,0])\n",
    "no_of_columns=len(contingency_tab.iloc[0,0:2])\n",
    "df=(no_of_rows-1)*(no_of_columns-1)\n",
    "print(\"Degree of Freedom:-\",df)\n",
    "from scipy.stats import chi2\n",
    "chi_square=sum([(o-e)**2./e for o,e in zip(Observed_Values,Expected_Values)])\n",
    "chi_square_statistic=chi_square[0]+chi_square[1]\n",
    "print(\"chi-square statistic:-\",chi_square_statistic)\n",
    "alpha=0.05\n",
    "critical_value=chi2.ppf(q=1-alpha,df=df)\n",
    "print('critical_value:',critical_value)\n",
    "p_value=1-chi2.cdf(x=chi_square_statistic,df=df)\n",
    "print('p-value:',p_value)\n",
    "print('Significance level: ',alpha)\n",
    "print('Degree of Freedom: ',df)\n",
    "print('chi-square statistic:',chi_square_statistic)\n",
    "print('critical_value:',critical_value)\n",
    "print('p-value:',p_value)\n",
    "if chi_square_statistic>=critical_value:\n",
    "    print(\"Reject H0,There is a relationship between 2 categorical variables\")\n",
    "else:\n",
    "    print(\"Retain H0,There is no relationship between 2 categorical variables\")\n",
    "    \n",
    "if p_value<=alpha:\n",
    "    print(\"Reject H0,There is a relationship between 2 categorical variables\")\n",
    "else:\n",
    "    print(\"Retain H0,There is no relationship between 2 categorical variables\")"
   ]
  },
  {
   "cell_type": "code",
   "execution_count": 64,
   "metadata": {},
   "outputs": [
    {
     "name": "stdout",
     "output_type": "stream",
     "text": [
      "Degree of Freedom:- 1\n",
      "chi-square statistic:- 9557.0\n",
      "critical_value: 3.841458820694124\n",
      "p-value: 0.0\n",
      "Significance level:  0.05\n",
      "Degree of Freedom:  1\n",
      "chi-square statistic: 9557.0\n",
      "critical_value: 3.841458820694124\n",
      "p-value: 0.0\n",
      "Reject H0,There is a relationship between 2 categorical variables\n",
      "Reject H0,There is a relationship between 2 categorical variables\n"
     ]
    }
   ],
   "source": [
    "# lets find the relationship between tablets column\n",
    "#v18q1 Columns related to number of tablets household owns v18q, owns a tablet\n",
    "\n",
    "contingency_tab=pd.crosstab(Train_income['v18q1'],Train_income['v18q'])\n",
    "Observed_Values=contingency_tab.values\n",
    "import scipy.stats\n",
    "b=scipy.stats.chi2_contingency(contingency_tab)\n",
    "Expected_Values = b[3]\n",
    "no_of_rows=len(contingency_tab.iloc[0:2,0])\n",
    "no_of_columns=len(contingency_tab.iloc[0,0:2])\n",
    "df=(no_of_rows-1)*(no_of_columns-1)\n",
    "print(\"Degree of Freedom:-\",df)\n",
    "from scipy.stats import chi2\n",
    "chi_square=sum([(o-e)**2./e for o,e in zip(Observed_Values,Expected_Values)])\n",
    "chi_square_statistic=chi_square[0]+chi_square[1]\n",
    "print(\"chi-square statistic:-\",chi_square_statistic)\n",
    "alpha=0.05\n",
    "critical_value=chi2.ppf(q=1-alpha,df=df)\n",
    "print('critical_value:',critical_value)\n",
    "p_value=1-chi2.cdf(x=chi_square_statistic,df=df)\n",
    "print('p-value:',p_value)\n",
    "print('Significance level: ',alpha)\n",
    "print('Degree of Freedom: ',df)\n",
    "print('chi-square statistic:',chi_square_statistic)\n",
    "print('critical_value:',critical_value)\n",
    "print('p-value:',p_value)\n",
    "if chi_square_statistic>=critical_value:\n",
    "    print(\"Reject H0,There is a relationship between 2 categorical variables\")\n",
    "else:\n",
    "    print(\"Retain H0,There is no relationship between 2 categorical variables\")\n",
    "    \n",
    "if p_value<=alpha:\n",
    "    print(\"Reject H0,There is a relationship between 2 categorical variables\")\n",
    "else:\n",
    "    print(\"Retain H0,There is no relationship between 2 categorical variables\")"
   ]
  },
  {
   "cell_type": "code",
   "execution_count": 65,
   "metadata": {},
   "outputs": [
    {
     "name": "stdout",
     "output_type": "stream",
     "text": [
      "Degree of Freedom:- 1\n",
      "chi-square statistic:- 9557.0\n",
      "critical_value: 3.841458820694124\n",
      "p-value: 0.0\n",
      "Significance level:  0.05\n",
      "Degree of Freedom:  1\n",
      "chi-square statistic: 9557.0\n",
      "critical_value: 3.841458820694124\n",
      "p-value: 0.0\n",
      "Reject H0,There is a relationship between 2 categorical variables\n",
      "Reject H0,There is a relationship between 2 categorical variables\n"
     ]
    }
   ],
   "source": [
    "# lets find the relationship between areas column\n",
    "#area1= 1 zon urban ,area2 = 2 zona rural\n",
    "\n",
    "contingency_tab=pd.crosstab(Train_income['area1'],Train_income['area2'])\n",
    "Observed_Values=contingency_tab.values\n",
    "import scipy.stats\n",
    "b=scipy.stats.chi2_contingency(contingency_tab)\n",
    "Expected_Values = b[3]\n",
    "no_of_rows=len(contingency_tab.iloc[0:2,0])\n",
    "no_of_columns=len(contingency_tab.iloc[0,0:2])\n",
    "df=(no_of_rows-1)*(no_of_columns-1)\n",
    "print(\"Degree of Freedom:-\",df)\n",
    "from scipy.stats import chi2\n",
    "chi_square=sum([(o-e)**2./e for o,e in zip(Observed_Values,Expected_Values)])\n",
    "chi_square_statistic=chi_square[0]+chi_square[1]\n",
    "print(\"chi-square statistic:-\",chi_square_statistic)\n",
    "alpha=0.05\n",
    "critical_value=chi2.ppf(q=1-alpha,df=df)\n",
    "print('critical_value:',critical_value)\n",
    "p_value=1-chi2.cdf(x=chi_square_statistic,df=df)\n",
    "print('p-value:',p_value)\n",
    "print('Significance level: ',alpha)\n",
    "print('Degree of Freedom: ',df)\n",
    "print('chi-square statistic:',chi_square_statistic)\n",
    "print('critical_value:',critical_value)\n",
    "print('p-value:',p_value)\n",
    "if chi_square_statistic>=critical_value:\n",
    "    print(\"Reject H0,There is a relationship between 2 categorical variables\")\n",
    "else:\n",
    "    print(\"Retain H0,There is no relationship between 2 categorical variables\")\n",
    "    \n",
    "if p_value<=alpha:\n",
    "    print(\"Reject H0,There is a relationship between 2 categorical variables\")\n",
    "else:\n",
    "    print(\"Retain H0,There is no relationship between 2 categorical variables\")"
   ]
  },
  {
   "cell_type": "code",
   "execution_count": 66,
   "metadata": {},
   "outputs": [
    {
     "name": "stdout",
     "output_type": "stream",
     "text": [
      "Degree of Freedom:- 1\n",
      "chi-square statistic:- 216.10450097295802\n",
      "critical_value: 3.841458820694124\n",
      "p-value: 0.0\n",
      "Significance level:  0.05\n",
      "Degree of Freedom:  1\n",
      "chi-square statistic: 216.10450097295802\n",
      "critical_value: 3.841458820694124\n",
      "p-value: 0.0\n",
      "Reject H0,There is a relationship between 2 categorical variables\n",
      "Reject H0,There is a relationship between 2 categorical variables\n"
     ]
    }
   ],
   "source": [
    "# lets find the relationship between years of education column\n",
    "#edejefa = years of education of male head of the household \n",
    "#edefe= years of education of female head of household\n",
    "#rez_esc = years behind in school \n",
    "#meaneduc = average years of education for adults +18 \n",
    "#instlelvel1 =  no level of education \n",
    "#instlevel2 = incomplete primary\n",
    "#age = age in years \n",
    "\n",
    "contingency_tab=pd.crosstab(Train_income['meaneduc'],Train_income['age'])\n",
    "Observed_Values=contingency_tab.values\n",
    "import scipy.stats\n",
    "b=scipy.stats.chi2_contingency(contingency_tab)\n",
    "Expected_Values = b[3]\n",
    "no_of_rows=len(contingency_tab.iloc[0:2,0])\n",
    "no_of_columns=len(contingency_tab.iloc[0,0:2])\n",
    "df=(no_of_rows-1)*(no_of_columns-1)\n",
    "print(\"Degree of Freedom:-\",df)\n",
    "from scipy.stats import chi2\n",
    "chi_square=sum([(o-e)**2./e for o,e in zip(Observed_Values,Expected_Values)])\n",
    "chi_square_statistic=chi_square[0]+chi_square[1]\n",
    "print(\"chi-square statistic:-\",chi_square_statistic)\n",
    "alpha=0.05\n",
    "critical_value=chi2.ppf(q=1-alpha,df=df)\n",
    "print('critical_value:',critical_value)\n",
    "p_value=1-chi2.cdf(x=chi_square_statistic,df=df)\n",
    "print('p-value:',p_value)\n",
    "print('Significance level: ',alpha)\n",
    "print('Degree of Freedom: ',df)\n",
    "print('chi-square statistic:',chi_square_statistic)\n",
    "print('critical_value:',critical_value)\n",
    "print('p-value:',p_value)\n",
    "if chi_square_statistic>=critical_value:\n",
    "    print(\"Reject H0,There is a relationship between 2 categorical variables\")\n",
    "else:\n",
    "    print(\"Retain H0,There is no relationship between 2 categorical variables\")\n",
    "    \n",
    "if p_value<=alpha:\n",
    "    print(\"Reject H0,There is a relationship between 2 categorical variables\")\n",
    "else:\n",
    "    print(\"Retain H0,There is no relationship between 2 categorical variables\")"
   ]
  },
  {
   "cell_type": "markdown",
   "metadata": {},
   "source": [
    "from above we can see that there is a strong bias relatinship between the  datasets,\n",
    "hence we will be required any one of the above for predicting the accuracy of model\n",
    "hence the columns we are choosing here to interprate the data accurately, are as follows:\n",
    " v2a1,v18q1,area1,edjefa,edjefe,age,meanedu,r4t3."
   ]
  },
  {
   "cell_type": "markdown",
   "metadata": {},
   "source": [
    "### lets check the variance values."
   ]
  },
  {
   "cell_type": "code",
   "execution_count": 67,
   "metadata": {},
   "outputs": [
    {
     "data": {
      "text/plain": [
       "array(['elimbasu5'], dtype=object)"
      ]
     },
     "execution_count": 67,
     "metadata": {},
     "output_type": "execute_result"
    }
   ],
   "source": [
    "Train_income_var =Train_income.var()[Train_income.var()==0].index.values\n",
    "Train_income_var"
   ]
  },
  {
   "cell_type": "code",
   "execution_count": 68,
   "metadata": {},
   "outputs": [
    {
     "data": {
      "text/plain": [
       "0.0"
      ]
     },
     "execution_count": 68,
     "metadata": {},
     "output_type": "execute_result"
    }
   ],
   "source": [
    "Train_income['elimbasu5'].var()"
   ]
  },
  {
   "cell_type": "markdown",
   "metadata": {},
   "source": [
    "we have seen that the variablity of elimbasu5 is zero as all values are same therefore we can drop the column for better prediction."
   ]
  },
  {
   "cell_type": "code",
   "execution_count": 69,
   "metadata": {},
   "outputs": [
    {
     "data": {
      "text/plain": [
       "(9557, 142)"
      ]
     },
     "execution_count": 69,
     "metadata": {},
     "output_type": "execute_result"
    }
   ],
   "source": [
    "Train_income.shape"
   ]
  },
  {
   "cell_type": "code",
   "execution_count": 70,
   "metadata": {},
   "outputs": [
    {
     "data": {
      "text/plain": [
       "(9557, 141)"
      ]
     },
     "execution_count": 70,
     "metadata": {},
     "output_type": "execute_result"
    }
   ],
   "source": [
    "\n",
    "Train_income =Train_income.drop('elimbasu5',axis=1)\n",
    "Train_income.shape"
   ]
  },
  {
   "cell_type": "markdown",
   "metadata": {},
   "source": [
    "## Check whether all the members of the house have the same poverty level."
   ]
  },
  {
   "cell_type": "markdown",
   "metadata": {},
   "source": [
    "The columns responsible for checking the members of the household have the same poverty level are:    \n",
    "tamhog =size of household\n",
    "tamviv =number of persons living in household\n",
    "hhsize = household size \n",
    "parentesco1 = 1 household head\n",
    "\n",
    "idhogar = household level identifier \n",
    "\n",
    "hogar_total= total individual in the household.\n",
    "\n",
    "edejefa = years of education of male head of the household \n",
    "\n",
    "edefe= years of education of female head of household\n",
    "\n",
    "meaneduc = average years of education for adults +18 \n",
    "\n",
    "instlelvel1 =  no level of education \n",
    "\n",
    "instlevel2 = incomplete primary \n",
    "tipoviv2 =own . paying in installment \n",
    "\n",
    "tipoviv3= 1 rented \n",
    "    \n",
    " area1= 1 zon urban \n",
    "    \n",
    " area2 = 2 zona rural\n",
    " Target \n",
    " \n",
    "  these are the columns that can help to predict the poverty level.\n",
    "       "
   ]
  },
  {
   "cell_type": "code",
   "execution_count": 71,
   "metadata": {},
   "outputs": [
    {
     "name": "stdout",
     "output_type": "stream",
     "text": [
      "There are 85 housholds where the family members do not have same poverty level /target\n"
     ]
    }
   ],
   "source": [
    "all_value_equal =Train_income.groupby('idhogar')['Target'].apply(lambda x: x.nunique()==1 )\n",
    "\n",
    "not_equal =all_value_equal[all_value_equal!=True]\n",
    "print('There are {} housholds where the family members do not have same poverty level /target'.format(len(not_equal)))"
   ]
  },
  {
   "cell_type": "markdown",
   "metadata": {},
   "source": [
    "## Check if there is a house without a family head.\n",
    " here we will be using parentesco1 and idhogar column "
   ]
  },
  {
   "cell_type": "code",
   "execution_count": 72,
   "metadata": {},
   "outputs": [
    {
     "data": {
      "text/plain": [
       "1    2973\n",
       "0      15\n",
       "Name: parentesco1, dtype: int64"
      ]
     },
     "execution_count": 72,
     "metadata": {},
     "output_type": "execute_result"
    }
   ],
   "source": [
    "household_head = Train_income.groupby('idhogar')['parentesco1'].sum().value_counts()\n",
    "household_head.head()"
   ]
  },
  {
   "cell_type": "code",
   "execution_count": 73,
   "metadata": {},
   "outputs": [
    {
     "data": {
      "text/plain": [
       "0    6584\n",
       "1    2973\n",
       "Name: parentesco1, dtype: int64"
      ]
     },
     "execution_count": 73,
     "metadata": {},
     "output_type": "execute_result"
    }
   ],
   "source": [
    "Train_income.parentesco1.value_counts()"
   ]
  },
  {
   "cell_type": "code",
   "execution_count": 74,
   "metadata": {},
   "outputs": [
    {
     "data": {
      "text/html": [
       "<div>\n",
       "<style scoped>\n",
       "    .dataframe tbody tr th:only-of-type {\n",
       "        vertical-align: middle;\n",
       "    }\n",
       "\n",
       "    .dataframe tbody tr th {\n",
       "        vertical-align: top;\n",
       "    }\n",
       "\n",
       "    .dataframe thead th {\n",
       "        text-align: right;\n",
       "    }\n",
       "</style>\n",
       "<table border=\"1\" class=\"dataframe\">\n",
       "  <thead>\n",
       "    <tr style=\"text-align: right;\">\n",
       "      <th>edjefa</th>\n",
       "      <th>0.0</th>\n",
       "      <th>1.0</th>\n",
       "      <th>2.0</th>\n",
       "      <th>3.0</th>\n",
       "      <th>4.0</th>\n",
       "      <th>5.0</th>\n",
       "      <th>6.0</th>\n",
       "      <th>7.0</th>\n",
       "      <th>8.0</th>\n",
       "      <th>9.0</th>\n",
       "      <th>...</th>\n",
       "      <th>12.0</th>\n",
       "      <th>13.0</th>\n",
       "      <th>14.0</th>\n",
       "      <th>15.0</th>\n",
       "      <th>16.0</th>\n",
       "      <th>17.0</th>\n",
       "      <th>18.0</th>\n",
       "      <th>19.0</th>\n",
       "      <th>20.0</th>\n",
       "      <th>21.0</th>\n",
       "    </tr>\n",
       "    <tr>\n",
       "      <th>edjefe</th>\n",
       "      <th></th>\n",
       "      <th></th>\n",
       "      <th></th>\n",
       "      <th></th>\n",
       "      <th></th>\n",
       "      <th></th>\n",
       "      <th></th>\n",
       "      <th></th>\n",
       "      <th></th>\n",
       "      <th></th>\n",
       "      <th></th>\n",
       "      <th></th>\n",
       "      <th></th>\n",
       "      <th></th>\n",
       "      <th></th>\n",
       "      <th></th>\n",
       "      <th></th>\n",
       "      <th></th>\n",
       "      <th></th>\n",
       "      <th></th>\n",
       "      <th></th>\n",
       "    </tr>\n",
       "  </thead>\n",
       "  <tbody>\n",
       "    <tr>\n",
       "      <th>0.0</th>\n",
       "      <td>435</td>\n",
       "      <td>69</td>\n",
       "      <td>84</td>\n",
       "      <td>152</td>\n",
       "      <td>136</td>\n",
       "      <td>176</td>\n",
       "      <td>947</td>\n",
       "      <td>179</td>\n",
       "      <td>217</td>\n",
       "      <td>237</td>\n",
       "      <td>...</td>\n",
       "      <td>72</td>\n",
       "      <td>52</td>\n",
       "      <td>120</td>\n",
       "      <td>188</td>\n",
       "      <td>113</td>\n",
       "      <td>76</td>\n",
       "      <td>3</td>\n",
       "      <td>4</td>\n",
       "      <td>2</td>\n",
       "      <td>5</td>\n",
       "    </tr>\n",
       "    <tr>\n",
       "      <th>1.0</th>\n",
       "      <td>123</td>\n",
       "      <td>0</td>\n",
       "      <td>0</td>\n",
       "      <td>0</td>\n",
       "      <td>0</td>\n",
       "      <td>0</td>\n",
       "      <td>0</td>\n",
       "      <td>0</td>\n",
       "      <td>0</td>\n",
       "      <td>0</td>\n",
       "      <td>...</td>\n",
       "      <td>0</td>\n",
       "      <td>0</td>\n",
       "      <td>0</td>\n",
       "      <td>0</td>\n",
       "      <td>0</td>\n",
       "      <td>0</td>\n",
       "      <td>0</td>\n",
       "      <td>0</td>\n",
       "      <td>0</td>\n",
       "      <td>0</td>\n",
       "    </tr>\n",
       "    <tr>\n",
       "      <th>2.0</th>\n",
       "      <td>194</td>\n",
       "      <td>0</td>\n",
       "      <td>0</td>\n",
       "      <td>0</td>\n",
       "      <td>0</td>\n",
       "      <td>0</td>\n",
       "      <td>0</td>\n",
       "      <td>0</td>\n",
       "      <td>0</td>\n",
       "      <td>0</td>\n",
       "      <td>...</td>\n",
       "      <td>0</td>\n",
       "      <td>0</td>\n",
       "      <td>0</td>\n",
       "      <td>0</td>\n",
       "      <td>0</td>\n",
       "      <td>0</td>\n",
       "      <td>0</td>\n",
       "      <td>0</td>\n",
       "      <td>0</td>\n",
       "      <td>0</td>\n",
       "    </tr>\n",
       "    <tr>\n",
       "      <th>3.0</th>\n",
       "      <td>307</td>\n",
       "      <td>0</td>\n",
       "      <td>0</td>\n",
       "      <td>0</td>\n",
       "      <td>0</td>\n",
       "      <td>0</td>\n",
       "      <td>0</td>\n",
       "      <td>0</td>\n",
       "      <td>0</td>\n",
       "      <td>0</td>\n",
       "      <td>...</td>\n",
       "      <td>0</td>\n",
       "      <td>0</td>\n",
       "      <td>0</td>\n",
       "      <td>0</td>\n",
       "      <td>0</td>\n",
       "      <td>0</td>\n",
       "      <td>0</td>\n",
       "      <td>0</td>\n",
       "      <td>0</td>\n",
       "      <td>0</td>\n",
       "    </tr>\n",
       "    <tr>\n",
       "      <th>4.0</th>\n",
       "      <td>137</td>\n",
       "      <td>0</td>\n",
       "      <td>0</td>\n",
       "      <td>0</td>\n",
       "      <td>0</td>\n",
       "      <td>0</td>\n",
       "      <td>0</td>\n",
       "      <td>0</td>\n",
       "      <td>0</td>\n",
       "      <td>0</td>\n",
       "      <td>...</td>\n",
       "      <td>0</td>\n",
       "      <td>0</td>\n",
       "      <td>0</td>\n",
       "      <td>0</td>\n",
       "      <td>0</td>\n",
       "      <td>0</td>\n",
       "      <td>0</td>\n",
       "      <td>0</td>\n",
       "      <td>0</td>\n",
       "      <td>0</td>\n",
       "    </tr>\n",
       "    <tr>\n",
       "      <th>5.0</th>\n",
       "      <td>222</td>\n",
       "      <td>0</td>\n",
       "      <td>0</td>\n",
       "      <td>0</td>\n",
       "      <td>0</td>\n",
       "      <td>0</td>\n",
       "      <td>0</td>\n",
       "      <td>0</td>\n",
       "      <td>0</td>\n",
       "      <td>0</td>\n",
       "      <td>...</td>\n",
       "      <td>0</td>\n",
       "      <td>0</td>\n",
       "      <td>0</td>\n",
       "      <td>0</td>\n",
       "      <td>0</td>\n",
       "      <td>0</td>\n",
       "      <td>0</td>\n",
       "      <td>0</td>\n",
       "      <td>0</td>\n",
       "      <td>0</td>\n",
       "    </tr>\n",
       "    <tr>\n",
       "      <th>6.0</th>\n",
       "      <td>1845</td>\n",
       "      <td>0</td>\n",
       "      <td>0</td>\n",
       "      <td>0</td>\n",
       "      <td>0</td>\n",
       "      <td>0</td>\n",
       "      <td>0</td>\n",
       "      <td>0</td>\n",
       "      <td>0</td>\n",
       "      <td>0</td>\n",
       "      <td>...</td>\n",
       "      <td>0</td>\n",
       "      <td>0</td>\n",
       "      <td>0</td>\n",
       "      <td>0</td>\n",
       "      <td>0</td>\n",
       "      <td>0</td>\n",
       "      <td>0</td>\n",
       "      <td>0</td>\n",
       "      <td>0</td>\n",
       "      <td>0</td>\n",
       "    </tr>\n",
       "    <tr>\n",
       "      <th>7.0</th>\n",
       "      <td>234</td>\n",
       "      <td>0</td>\n",
       "      <td>0</td>\n",
       "      <td>0</td>\n",
       "      <td>0</td>\n",
       "      <td>0</td>\n",
       "      <td>0</td>\n",
       "      <td>0</td>\n",
       "      <td>0</td>\n",
       "      <td>0</td>\n",
       "      <td>...</td>\n",
       "      <td>0</td>\n",
       "      <td>0</td>\n",
       "      <td>0</td>\n",
       "      <td>0</td>\n",
       "      <td>0</td>\n",
       "      <td>0</td>\n",
       "      <td>0</td>\n",
       "      <td>0</td>\n",
       "      <td>0</td>\n",
       "      <td>0</td>\n",
       "    </tr>\n",
       "    <tr>\n",
       "      <th>8.0</th>\n",
       "      <td>257</td>\n",
       "      <td>0</td>\n",
       "      <td>0</td>\n",
       "      <td>0</td>\n",
       "      <td>0</td>\n",
       "      <td>0</td>\n",
       "      <td>0</td>\n",
       "      <td>0</td>\n",
       "      <td>0</td>\n",
       "      <td>0</td>\n",
       "      <td>...</td>\n",
       "      <td>0</td>\n",
       "      <td>0</td>\n",
       "      <td>0</td>\n",
       "      <td>0</td>\n",
       "      <td>0</td>\n",
       "      <td>0</td>\n",
       "      <td>0</td>\n",
       "      <td>0</td>\n",
       "      <td>0</td>\n",
       "      <td>0</td>\n",
       "    </tr>\n",
       "    <tr>\n",
       "      <th>9.0</th>\n",
       "      <td>486</td>\n",
       "      <td>0</td>\n",
       "      <td>0</td>\n",
       "      <td>0</td>\n",
       "      <td>0</td>\n",
       "      <td>0</td>\n",
       "      <td>0</td>\n",
       "      <td>0</td>\n",
       "      <td>0</td>\n",
       "      <td>0</td>\n",
       "      <td>...</td>\n",
       "      <td>0</td>\n",
       "      <td>0</td>\n",
       "      <td>0</td>\n",
       "      <td>0</td>\n",
       "      <td>0</td>\n",
       "      <td>0</td>\n",
       "      <td>0</td>\n",
       "      <td>0</td>\n",
       "      <td>0</td>\n",
       "      <td>0</td>\n",
       "    </tr>\n",
       "    <tr>\n",
       "      <th>10.0</th>\n",
       "      <td>111</td>\n",
       "      <td>0</td>\n",
       "      <td>0</td>\n",
       "      <td>0</td>\n",
       "      <td>0</td>\n",
       "      <td>0</td>\n",
       "      <td>0</td>\n",
       "      <td>0</td>\n",
       "      <td>0</td>\n",
       "      <td>0</td>\n",
       "      <td>...</td>\n",
       "      <td>0</td>\n",
       "      <td>0</td>\n",
       "      <td>0</td>\n",
       "      <td>0</td>\n",
       "      <td>0</td>\n",
       "      <td>0</td>\n",
       "      <td>0</td>\n",
       "      <td>0</td>\n",
       "      <td>0</td>\n",
       "      <td>0</td>\n",
       "    </tr>\n",
       "    <tr>\n",
       "      <th>11.0</th>\n",
       "      <td>751</td>\n",
       "      <td>0</td>\n",
       "      <td>0</td>\n",
       "      <td>0</td>\n",
       "      <td>0</td>\n",
       "      <td>0</td>\n",
       "      <td>0</td>\n",
       "      <td>0</td>\n",
       "      <td>0</td>\n",
       "      <td>0</td>\n",
       "      <td>...</td>\n",
       "      <td>0</td>\n",
       "      <td>0</td>\n",
       "      <td>0</td>\n",
       "      <td>0</td>\n",
       "      <td>0</td>\n",
       "      <td>0</td>\n",
       "      <td>0</td>\n",
       "      <td>0</td>\n",
       "      <td>0</td>\n",
       "      <td>0</td>\n",
       "    </tr>\n",
       "    <tr>\n",
       "      <th>12.0</th>\n",
       "      <td>113</td>\n",
       "      <td>0</td>\n",
       "      <td>0</td>\n",
       "      <td>0</td>\n",
       "      <td>0</td>\n",
       "      <td>0</td>\n",
       "      <td>0</td>\n",
       "      <td>0</td>\n",
       "      <td>0</td>\n",
       "      <td>0</td>\n",
       "      <td>...</td>\n",
       "      <td>0</td>\n",
       "      <td>0</td>\n",
       "      <td>0</td>\n",
       "      <td>0</td>\n",
       "      <td>0</td>\n",
       "      <td>0</td>\n",
       "      <td>0</td>\n",
       "      <td>0</td>\n",
       "      <td>0</td>\n",
       "      <td>0</td>\n",
       "    </tr>\n",
       "    <tr>\n",
       "      <th>13.0</th>\n",
       "      <td>103</td>\n",
       "      <td>0</td>\n",
       "      <td>0</td>\n",
       "      <td>0</td>\n",
       "      <td>0</td>\n",
       "      <td>0</td>\n",
       "      <td>0</td>\n",
       "      <td>0</td>\n",
       "      <td>0</td>\n",
       "      <td>0</td>\n",
       "      <td>...</td>\n",
       "      <td>0</td>\n",
       "      <td>0</td>\n",
       "      <td>0</td>\n",
       "      <td>0</td>\n",
       "      <td>0</td>\n",
       "      <td>0</td>\n",
       "      <td>0</td>\n",
       "      <td>0</td>\n",
       "      <td>0</td>\n",
       "      <td>0</td>\n",
       "    </tr>\n",
       "    <tr>\n",
       "      <th>14.0</th>\n",
       "      <td>208</td>\n",
       "      <td>0</td>\n",
       "      <td>0</td>\n",
       "      <td>0</td>\n",
       "      <td>0</td>\n",
       "      <td>0</td>\n",
       "      <td>0</td>\n",
       "      <td>0</td>\n",
       "      <td>0</td>\n",
       "      <td>0</td>\n",
       "      <td>...</td>\n",
       "      <td>0</td>\n",
       "      <td>0</td>\n",
       "      <td>0</td>\n",
       "      <td>0</td>\n",
       "      <td>0</td>\n",
       "      <td>0</td>\n",
       "      <td>0</td>\n",
       "      <td>0</td>\n",
       "      <td>0</td>\n",
       "      <td>0</td>\n",
       "    </tr>\n",
       "    <tr>\n",
       "      <th>15.0</th>\n",
       "      <td>285</td>\n",
       "      <td>0</td>\n",
       "      <td>0</td>\n",
       "      <td>0</td>\n",
       "      <td>0</td>\n",
       "      <td>0</td>\n",
       "      <td>0</td>\n",
       "      <td>0</td>\n",
       "      <td>0</td>\n",
       "      <td>0</td>\n",
       "      <td>...</td>\n",
       "      <td>0</td>\n",
       "      <td>0</td>\n",
       "      <td>0</td>\n",
       "      <td>0</td>\n",
       "      <td>0</td>\n",
       "      <td>0</td>\n",
       "      <td>0</td>\n",
       "      <td>0</td>\n",
       "      <td>0</td>\n",
       "      <td>0</td>\n",
       "    </tr>\n",
       "    <tr>\n",
       "      <th>16.0</th>\n",
       "      <td>134</td>\n",
       "      <td>0</td>\n",
       "      <td>0</td>\n",
       "      <td>0</td>\n",
       "      <td>0</td>\n",
       "      <td>0</td>\n",
       "      <td>0</td>\n",
       "      <td>0</td>\n",
       "      <td>0</td>\n",
       "      <td>0</td>\n",
       "      <td>...</td>\n",
       "      <td>0</td>\n",
       "      <td>0</td>\n",
       "      <td>0</td>\n",
       "      <td>0</td>\n",
       "      <td>0</td>\n",
       "      <td>0</td>\n",
       "      <td>0</td>\n",
       "      <td>0</td>\n",
       "      <td>0</td>\n",
       "      <td>0</td>\n",
       "    </tr>\n",
       "    <tr>\n",
       "      <th>17.0</th>\n",
       "      <td>202</td>\n",
       "      <td>0</td>\n",
       "      <td>0</td>\n",
       "      <td>0</td>\n",
       "      <td>0</td>\n",
       "      <td>0</td>\n",
       "      <td>0</td>\n",
       "      <td>0</td>\n",
       "      <td>0</td>\n",
       "      <td>0</td>\n",
       "      <td>...</td>\n",
       "      <td>0</td>\n",
       "      <td>0</td>\n",
       "      <td>0</td>\n",
       "      <td>0</td>\n",
       "      <td>0</td>\n",
       "      <td>0</td>\n",
       "      <td>0</td>\n",
       "      <td>0</td>\n",
       "      <td>0</td>\n",
       "      <td>0</td>\n",
       "    </tr>\n",
       "    <tr>\n",
       "      <th>18.0</th>\n",
       "      <td>19</td>\n",
       "      <td>0</td>\n",
       "      <td>0</td>\n",
       "      <td>0</td>\n",
       "      <td>0</td>\n",
       "      <td>0</td>\n",
       "      <td>0</td>\n",
       "      <td>0</td>\n",
       "      <td>0</td>\n",
       "      <td>0</td>\n",
       "      <td>...</td>\n",
       "      <td>0</td>\n",
       "      <td>0</td>\n",
       "      <td>0</td>\n",
       "      <td>0</td>\n",
       "      <td>0</td>\n",
       "      <td>0</td>\n",
       "      <td>0</td>\n",
       "      <td>0</td>\n",
       "      <td>0</td>\n",
       "      <td>0</td>\n",
       "    </tr>\n",
       "    <tr>\n",
       "      <th>19.0</th>\n",
       "      <td>14</td>\n",
       "      <td>0</td>\n",
       "      <td>0</td>\n",
       "      <td>0</td>\n",
       "      <td>0</td>\n",
       "      <td>0</td>\n",
       "      <td>0</td>\n",
       "      <td>0</td>\n",
       "      <td>0</td>\n",
       "      <td>0</td>\n",
       "      <td>...</td>\n",
       "      <td>0</td>\n",
       "      <td>0</td>\n",
       "      <td>0</td>\n",
       "      <td>0</td>\n",
       "      <td>0</td>\n",
       "      <td>0</td>\n",
       "      <td>0</td>\n",
       "      <td>0</td>\n",
       "      <td>0</td>\n",
       "      <td>0</td>\n",
       "    </tr>\n",
       "    <tr>\n",
       "      <th>20.0</th>\n",
       "      <td>7</td>\n",
       "      <td>0</td>\n",
       "      <td>0</td>\n",
       "      <td>0</td>\n",
       "      <td>0</td>\n",
       "      <td>0</td>\n",
       "      <td>0</td>\n",
       "      <td>0</td>\n",
       "      <td>0</td>\n",
       "      <td>0</td>\n",
       "      <td>...</td>\n",
       "      <td>0</td>\n",
       "      <td>0</td>\n",
       "      <td>0</td>\n",
       "      <td>0</td>\n",
       "      <td>0</td>\n",
       "      <td>0</td>\n",
       "      <td>0</td>\n",
       "      <td>0</td>\n",
       "      <td>0</td>\n",
       "      <td>0</td>\n",
       "    </tr>\n",
       "    <tr>\n",
       "      <th>21.0</th>\n",
       "      <td>43</td>\n",
       "      <td>0</td>\n",
       "      <td>0</td>\n",
       "      <td>0</td>\n",
       "      <td>0</td>\n",
       "      <td>0</td>\n",
       "      <td>0</td>\n",
       "      <td>0</td>\n",
       "      <td>0</td>\n",
       "      <td>0</td>\n",
       "      <td>...</td>\n",
       "      <td>0</td>\n",
       "      <td>0</td>\n",
       "      <td>0</td>\n",
       "      <td>0</td>\n",
       "      <td>0</td>\n",
       "      <td>0</td>\n",
       "      <td>0</td>\n",
       "      <td>0</td>\n",
       "      <td>0</td>\n",
       "      <td>0</td>\n",
       "    </tr>\n",
       "  </tbody>\n",
       "</table>\n",
       "<p>22 rows × 22 columns</p>\n",
       "</div>"
      ],
      "text/plain": [
       "edjefa  0.0   1.0   2.0   3.0   4.0   5.0   6.0   7.0   8.0   9.0   ...  12.0  \\\n",
       "edjefe                                                              ...         \n",
       "0.0      435    69    84   152   136   176   947   179   217   237  ...    72   \n",
       "1.0      123     0     0     0     0     0     0     0     0     0  ...     0   \n",
       "2.0      194     0     0     0     0     0     0     0     0     0  ...     0   \n",
       "3.0      307     0     0     0     0     0     0     0     0     0  ...     0   \n",
       "4.0      137     0     0     0     0     0     0     0     0     0  ...     0   \n",
       "5.0      222     0     0     0     0     0     0     0     0     0  ...     0   \n",
       "6.0     1845     0     0     0     0     0     0     0     0     0  ...     0   \n",
       "7.0      234     0     0     0     0     0     0     0     0     0  ...     0   \n",
       "8.0      257     0     0     0     0     0     0     0     0     0  ...     0   \n",
       "9.0      486     0     0     0     0     0     0     0     0     0  ...     0   \n",
       "10.0     111     0     0     0     0     0     0     0     0     0  ...     0   \n",
       "11.0     751     0     0     0     0     0     0     0     0     0  ...     0   \n",
       "12.0     113     0     0     0     0     0     0     0     0     0  ...     0   \n",
       "13.0     103     0     0     0     0     0     0     0     0     0  ...     0   \n",
       "14.0     208     0     0     0     0     0     0     0     0     0  ...     0   \n",
       "15.0     285     0     0     0     0     0     0     0     0     0  ...     0   \n",
       "16.0     134     0     0     0     0     0     0     0     0     0  ...     0   \n",
       "17.0     202     0     0     0     0     0     0     0     0     0  ...     0   \n",
       "18.0      19     0     0     0     0     0     0     0     0     0  ...     0   \n",
       "19.0      14     0     0     0     0     0     0     0     0     0  ...     0   \n",
       "20.0       7     0     0     0     0     0     0     0     0     0  ...     0   \n",
       "21.0      43     0     0     0     0     0     0     0     0     0  ...     0   \n",
       "\n",
       "edjefa  13.0  14.0  15.0  16.0  17.0  18.0  19.0  20.0  21.0  \n",
       "edjefe                                                        \n",
       "0.0       52   120   188   113    76     3     4     2     5  \n",
       "1.0        0     0     0     0     0     0     0     0     0  \n",
       "2.0        0     0     0     0     0     0     0     0     0  \n",
       "3.0        0     0     0     0     0     0     0     0     0  \n",
       "4.0        0     0     0     0     0     0     0     0     0  \n",
       "5.0        0     0     0     0     0     0     0     0     0  \n",
       "6.0        0     0     0     0     0     0     0     0     0  \n",
       "7.0        0     0     0     0     0     0     0     0     0  \n",
       "8.0        0     0     0     0     0     0     0     0     0  \n",
       "9.0        0     0     0     0     0     0     0     0     0  \n",
       "10.0       0     0     0     0     0     0     0     0     0  \n",
       "11.0       0     0     0     0     0     0     0     0     0  \n",
       "12.0       0     0     0     0     0     0     0     0     0  \n",
       "13.0       0     0     0     0     0     0     0     0     0  \n",
       "14.0       0     0     0     0     0     0     0     0     0  \n",
       "15.0       0     0     0     0     0     0     0     0     0  \n",
       "16.0       0     0     0     0     0     0     0     0     0  \n",
       "17.0       0     0     0     0     0     0     0     0     0  \n",
       "18.0       0     0     0     0     0     0     0     0     0  \n",
       "19.0       0     0     0     0     0     0     0     0     0  \n",
       "20.0       0     0     0     0     0     0     0     0     0  \n",
       "21.0       0     0     0     0     0     0     0     0     0  \n",
       "\n",
       "[22 rows x 22 columns]"
      ]
     },
     "execution_count": 74,
     "metadata": {},
     "output_type": "execute_result"
    }
   ],
   "source": [
    "pd.crosstab(Train_income['edjefe'],Train_income['edjefa'])"
   ]
  },
  {
   "cell_type": "markdown",
   "metadata": {},
   "source": [
    "interpretion: there are 435 household without heads as 0 males head and 0 female head.\n",
    "\n",
    "lets find by unique function."
   ]
  },
  {
   "cell_type": "markdown",
   "metadata": {},
   "source": [
    "## Set poverty level of the members and the head of the house within a family."
   ]
  },
  {
   "cell_type": "code",
   "execution_count": 75,
   "metadata": {},
   "outputs": [
    {
     "data": {
      "text/plain": [
       "(2668, 141)"
      ]
     },
     "execution_count": 75,
     "metadata": {},
     "output_type": "execute_result"
    }
   ],
   "source": [
    "# lets find the rows who does not own the house but pays rent \n",
    "\n",
    "poverty_level =Train_income[Train_income['v2a1']!=0]\n",
    "poverty_level.shape"
   ]
  },
  {
   "cell_type": "code",
   "execution_count": 76,
   "metadata": {},
   "outputs": [
    {
     "data": {
      "text/plain": [
       "area1\n",
       "0     80000.0\n",
       "1    140000.0\n",
       "Name: v2a1, dtype: float64"
      ]
     },
     "execution_count": 76,
     "metadata": {},
     "output_type": "execute_result"
    }
   ],
   "source": [
    "# let groupby the v2a1 monthly rent pyment with the area1 and area2\n",
    "Poverty_level= poverty_level.groupby('area1')['v2a1'].apply(np.median)\n",
    "Poverty_level"
   ]
  },
  {
   "cell_type": "code",
   "execution_count": 77,
   "metadata": {},
   "outputs": [],
   "source": [
    "Poverty_level =poverty_level.groupby('area2')['v2a1'].apply(np.median)"
   ]
  },
  {
   "cell_type": "code",
   "execution_count": 78,
   "metadata": {},
   "outputs": [
    {
     "data": {
      "text/plain": [
       "area2\n",
       "0    140000.0\n",
       "1     80000.0\n",
       "Name: v2a1, dtype: float64"
      ]
     },
     "execution_count": 78,
     "metadata": {},
     "output_type": "execute_result"
    }
   ],
   "source": [
    "Poverty_level"
   ]
  },
  {
   "cell_type": "markdown",
   "metadata": {},
   "source": [
    "we have seen that both data has rural and urban house whose rental status is between 80000 to 140000\n",
    "lets put a condition to verify the status of poverty level"
   ]
  },
  {
   "cell_type": "code",
   "execution_count": 79,
   "metadata": {},
   "outputs": [],
   "source": [
    "def povert(x):\n",
    "    if x<80000:\n",
    "        return('Below poverty level')\n",
    "    elif x>140000:\n",
    "        return('Above Poverty Level')\n",
    "    elif x<140000:\n",
    "        return('Below poverty leve:Urban;Above Poverty Level:Rural')"
   ]
  },
  {
   "cell_type": "code",
   "execution_count": 80,
   "metadata": {},
   "outputs": [],
   "source": [
    "c = poverty_level['v2a1'].apply(povert)"
   ]
  },
  {
   "cell_type": "code",
   "execution_count": 81,
   "metadata": {},
   "outputs": [
    {
     "data": {
      "text/plain": [
       "(2668,)"
      ]
     },
     "execution_count": 81,
     "metadata": {},
     "output_type": "execute_result"
    }
   ],
   "source": [
    "c.shape"
   ]
  },
  {
   "cell_type": "code",
   "execution_count": 82,
   "metadata": {},
   "outputs": [
    {
     "data": {
      "text/html": [
       "<div>\n",
       "<style scoped>\n",
       "    .dataframe tbody tr th:only-of-type {\n",
       "        vertical-align: middle;\n",
       "    }\n",
       "\n",
       "    .dataframe tbody tr th {\n",
       "        vertical-align: top;\n",
       "    }\n",
       "\n",
       "    .dataframe thead th {\n",
       "        text-align: right;\n",
       "    }\n",
       "</style>\n",
       "<table border=\"1\" class=\"dataframe\">\n",
       "  <thead>\n",
       "    <tr style=\"text-align: right;\">\n",
       "      <th>area1</th>\n",
       "      <th>0</th>\n",
       "      <th>1</th>\n",
       "    </tr>\n",
       "    <tr>\n",
       "      <th>v2a1</th>\n",
       "      <th></th>\n",
       "      <th></th>\n",
       "    </tr>\n",
       "  </thead>\n",
       "  <tbody>\n",
       "    <tr>\n",
       "      <th>Above Poverty Level</th>\n",
       "      <td>139</td>\n",
       "      <td>1103</td>\n",
       "    </tr>\n",
       "    <tr>\n",
       "      <th>Below poverty leve:Urban;Above Poverty Level:Rural</th>\n",
       "      <td>98</td>\n",
       "      <td>663</td>\n",
       "    </tr>\n",
       "    <tr>\n",
       "      <th>Below poverty level</th>\n",
       "      <td>208</td>\n",
       "      <td>418</td>\n",
       "    </tr>\n",
       "  </tbody>\n",
       "</table>\n",
       "</div>"
      ],
      "text/plain": [
       "area1                                                 0     1\n",
       "v2a1                                                         \n",
       "Above Poverty Level                                 139  1103\n",
       "Below poverty leve:Urban;Above Poverty Level:Rural   98   663\n",
       "Below poverty level                                 208   418"
      ]
     },
     "execution_count": 82,
     "metadata": {},
     "output_type": "execute_result"
    }
   ],
   "source": [
    "Poverty_crosstab=pd.crosstab(c,poverty_level['area1'])\n",
    "Poverty_crosstab"
   ]
  },
  {
   "cell_type": "markdown",
   "metadata": {},
   "source": [
    "Interpretation:\n",
    "\n",
    "There are total 1242 people above poverty level independent of area whether rural or Urban\n",
    "\n",
    "Remaining are the  people level depends on their area\n",
    "Rural :\n",
    "\n",
    "Above poverty level=  139+98+208=445\n",
    "\n",
    "Urban :\n",
    "\n",
    "Above poverty level =1103\n",
    "\n",
    "Below poverty level= 663+418= 1081"
   ]
  },
  {
   "cell_type": "code",
   "execution_count": 83,
   "metadata": {},
   "outputs": [
    {
     "data": {
      "text/plain": [
       "<AxesSubplot:title={'center':'Target vs Total_Count'}, xlabel='v2a1'>"
      ]
     },
     "execution_count": 83,
     "metadata": {},
     "output_type": "execute_result"
    },
    {
     "data": {
      "image/png": "[encoded data removed]",
      "text/plain": [
       "<Figure size 576x432 with 1 Axes>"
      ]
     },
     "metadata": {
      "needs_background": "light"
     },
     "output_type": "display_data"
    }
   ],
   "source": [
    "Poverty_crosstab.plot.bar(figsize = (8, 6),linewidth = 2,edgecolor = 'k',title=\"Target vs Total_Count\")"
   ]
  },
  {
   "cell_type": "markdown",
   "metadata": {},
   "source": [
    "# Remove the null values rows of the target values"
   ]
  },
  {
   "cell_type": "code",
   "execution_count": 84,
   "metadata": {},
   "outputs": [
    {
     "data": {
      "text/plain": [
       "0"
      ]
     },
     "execution_count": 84,
     "metadata": {},
     "output_type": "execute_result"
    }
   ],
   "source": [
    "Train_income['Target'].isna().sum()"
   ]
  },
  {
   "cell_type": "markdown",
   "metadata": {},
   "source": [
    "### remove unwanted columns"
   ]
  },
  {
   "cell_type": "code",
   "execution_count": 85,
   "metadata": {},
   "outputs": [
    {
     "data": {
      "text/plain": [
       "lugar5         1\n",
       "parentesco2    1\n",
       "escolari       1\n",
       "pisonatur      1\n",
       "parentesco6    1\n",
       "              ..\n",
       "pisoother      1\n",
       "epared3        1\n",
       "hogar_total    1\n",
       "techocane      1\n",
       "r4h2           1\n",
       "Length: 129, dtype: int64"
      ]
     },
     "execution_count": 85,
     "metadata": {},
     "output_type": "execute_result"
    }
   ],
   "source": [
    "#lets remove the unwanted column and biased columns for better prediction.\n",
    "null =Train_income.select_dtypes(np.int64).columns.sort_values()\n",
    "null.value_counts()"
   ]
  },
  {
   "cell_type": "code",
   "execution_count": 86,
   "metadata": {},
   "outputs": [
    {
     "data": {
      "text/plain": [
       "SQBovercrowding    1\n",
       "SQBmeaned          1\n",
       "edjefa             1\n",
       "overcrowding       1\n",
       "SQBdependency      1\n",
       "v18q1              1\n",
       "meaneduc           1\n",
       "edjefe             1\n",
       "v2a1               1\n",
       "rez_esc            1\n",
       "dependency         1\n",
       "dtype: int64"
      ]
     },
     "execution_count": 86,
     "metadata": {},
     "output_type": "execute_result"
    }
   ],
   "source": [
    "#lets remove the unwanted column and biased columns for better prediction.\n",
    "null =Train_income.select_dtypes(np.float64).columns\n",
    "null.value_counts()"
   ]
  },
  {
   "cell_type": "code",
   "execution_count": 87,
   "metadata": {},
   "outputs": [
    {
     "name": "stderr",
     "output_type": "stream",
     "text": [
      "/usr/local/lib/python3.7/site-packages/ipykernel_launcher.py:2: DeprecationWarning: `np.object` is a deprecated alias for the builtin `object`. To silence this warning, use `object` by itself. Doing this will not modify any behavior and is safe. \n",
      "Deprecated in NumPy 1.20; for more details and guidance: https://numpy.org/devdocs/release/1.20.0-notes.html#deprecations\n",
      "  \n"
     ]
    },
    {
     "data": {
      "text/plain": [
       "idhogar    1\n",
       "dtype: int64"
      ]
     },
     "execution_count": 87,
     "metadata": {},
     "output_type": "execute_result"
    }
   ],
   "source": [
    "#lets remove the unwanted column and biased columns for better prediction.\n",
    "null =Train_income.select_dtypes(np.object).columns\n",
    "null.value_counts()"
   ]
  },
  {
   "cell_type": "markdown",
   "metadata": {},
   "source": [
    "# lets drop the columns that is not affecting the prediction,\n",
    "\n",
    "here we can see idhogar is the indetity of household, \n",
    "area2 has both data of urban and rural and similarly area1 and both are biased so we can use one of these. \n",
    "similarly we can drop tipovivi4,tipovivi5,hogar_total"
   ]
  },
  {
   "cell_type": "code",
   "execution_count": 88,
   "metadata": {},
   "outputs": [
    {
     "name": "stdout",
     "output_type": "stream",
     "text": [
      "Before dropping the column (9557, 141)\n",
      "After dropping the columns (9557, 136)\n"
     ]
    }
   ],
   "source": [
    "print(\"Before dropping the column\",Train_income.shape)\n",
    "col=['area2','tipovivi5','tipovivi4','hogar_total','idhogar']\n",
    "Train_income= Train_income.drop(col,axis=1)\n",
    "print(\"After dropping the columns\",Train_income.shape)"
   ]
  },
  {
   "cell_type": "code",
   "execution_count": 89,
   "metadata": {},
   "outputs": [
    {
     "name": "stdout",
     "output_type": "stream",
     "text": [
      "Before dropping the column (23856, 142)\n",
      "After dropping the columns (23856, 136)\n"
     ]
    }
   ],
   "source": [
    "# Similarly we can do for Test_income dataset\n",
    "print(\"Before dropping the column\",Test_income.shape)\n",
    "col=['Id','area2','tipovivi5','tipovivi4','hogar_total','idhogar']\n",
    "Test_income= Test_income.drop(col,axis=1)\n",
    "print(\"After dropping the columns\",Test_income.shape)"
   ]
  },
  {
   "cell_type": "code",
   "execution_count": 90,
   "metadata": {},
   "outputs": [
    {
     "data": {
      "text/plain": [
       "Series([], dtype: int64)"
      ]
     },
     "execution_count": 90,
     "metadata": {},
     "output_type": "execute_result"
    }
   ],
   "source": [
    "null_counts =Test_income.select_dtypes('int64').isnull().sum()\n",
    "\n",
    "null_counts[null_counts>0]"
   ]
  },
  {
   "cell_type": "code",
   "execution_count": 91,
   "metadata": {},
   "outputs": [
    {
     "data": {
      "text/plain": [
       "Series([], dtype: int64)"
      ]
     },
     "execution_count": 91,
     "metadata": {},
     "output_type": "execute_result"
    }
   ],
   "source": [
    "null_counts =Test_income.select_dtypes('float64').isnull().sum()\n",
    "\n",
    "null_counts[null_counts>0]"
   ]
  },
  {
   "cell_type": "code",
   "execution_count": 92,
   "metadata": {},
   "outputs": [
    {
     "data": {
      "text/plain": [
       "Series([], dtype: float64)"
      ]
     },
     "execution_count": 92,
     "metadata": {},
     "output_type": "execute_result"
    }
   ],
   "source": [
    "null_counts =Test_income.select_dtypes('object').isnull().sum()\n",
    "\n",
    "null_counts[null_counts>0]"
   ]
  },
  {
   "cell_type": "markdown",
   "metadata": {},
   "source": [
    "All null values has been rectified in both train_income and test_income dataframe."
   ]
  },
  {
   "cell_type": "code",
   "execution_count": null,
   "metadata": {},
   "outputs": [],
   "source": []
  },
  {
   "cell_type": "markdown",
   "metadata": {},
   "source": [
    "# predict accuracy using random forest with cross validation"
   ]
  },
  {
   "cell_type": "code",
   "execution_count": 93,
   "metadata": {},
   "outputs": [],
   "source": [
    "from sklearn.ensemble import RandomForestClassifier\n",
    "from sklearn.metrics import accuracy_score\n",
    "from sklearn.metrics import precision_score,f1_score,confusion_matrix\n",
    "from sklearn.model_selection import train_test_split\n",
    "from sklearn.model_selection import cross_val_score"
   ]
  },
  {
   "cell_type": "code",
   "execution_count": 94,
   "metadata": {},
   "outputs": [],
   "source": [
    "x = Train_income.drop('Target', axis=1)\n",
    "y= Train_income.Target"
   ]
  },
  {
   "cell_type": "code",
   "execution_count": 95,
   "metadata": {},
   "outputs": [
    {
     "data": {
      "text/plain": [
       "(9557, 135)"
      ]
     },
     "execution_count": 95,
     "metadata": {},
     "output_type": "execute_result"
    }
   ],
   "source": [
    "x.shape"
   ]
  },
  {
   "cell_type": "code",
   "execution_count": 96,
   "metadata": {},
   "outputs": [
    {
     "data": {
      "text/plain": [
       "Index(['v2a1', 'hacdor', 'rooms', 'hacapo', 'v14a', 'refrig', 'v18q', 'v18q1',\n",
       "       'r4h1', 'r4h2',\n",
       "       ...\n",
       "       'age', 'SQBescolari', 'SQBage', 'SQBhogar_total', 'SQBedjefe',\n",
       "       'SQBhogar_nin', 'SQBovercrowding', 'SQBdependency', 'SQBmeaned',\n",
       "       'agesq'],\n",
       "      dtype='object', length=135)"
      ]
     },
     "execution_count": 96,
     "metadata": {},
     "output_type": "execute_result"
    }
   ],
   "source": [
    "x_data_col= x.columns\n",
    "x_data_col\n"
   ]
  },
  {
   "cell_type": "code",
   "execution_count": 97,
   "metadata": {},
   "outputs": [
    {
     "data": {
      "text/plain": [
       "(9557,)"
      ]
     },
     "execution_count": 97,
     "metadata": {},
     "output_type": "execute_result"
    }
   ],
   "source": [
    "y.shape"
   ]
  },
  {
   "cell_type": "code",
   "execution_count": 98,
   "metadata": {},
   "outputs": [],
   "source": [
    "from sklearn.preprocessing import StandardScaler"
   ]
  },
  {
   "cell_type": "markdown",
   "metadata": {},
   "source": [
    "## Apply the scaling process for better fit nd model prediction."
   ]
  },
  {
   "cell_type": "code",
   "execution_count": 99,
   "metadata": {},
   "outputs": [],
   "source": [
    "scaler =StandardScaler()"
   ]
  },
  {
   "cell_type": "code",
   "execution_count": 100,
   "metadata": {},
   "outputs": [
    {
     "data": {
      "text/plain": [
       "array([[ 1.31338864, -0.19898579, -1.33182893, ..., -0.31175397,\n",
       "        -0.02769211,  0.11787088],\n",
       "       [ 0.8095477 , -0.19898579, -0.65077114, ...,  4.8036723 ,\n",
       "         0.4429589 ,  1.63414851],\n",
       "       [-0.42715279, -0.19898579,  2.07346003, ...,  4.8036723 ,\n",
       "         0.19693678,  3.91718016],\n",
       "       ...,\n",
       "       [ 0.30570676, -0.19898579,  0.71134445, ..., -0.30675844,\n",
       "        -0.36931521,  0.49177116],\n",
       "       [ 0.30570676, -0.19898579,  0.71134445, ..., -0.30675844,\n",
       "        -0.36931521, -0.55583883],\n",
       "       [ 0.30570676, -0.19898579,  0.71134445, ..., -0.30675844,\n",
       "        -0.36931521, -0.69081052]])"
      ]
     },
     "execution_count": 100,
     "metadata": {},
     "output_type": "execute_result"
    }
   ],
   "source": [
    "x= scaler.fit_transform(x)\n",
    "x"
   ]
  },
  {
   "cell_type": "code",
   "execution_count": 101,
   "metadata": {},
   "outputs": [
    {
     "data": {
      "text/html": [
       "<div>\n",
       "<style scoped>\n",
       "    .dataframe tbody tr th:only-of-type {\n",
       "        vertical-align: middle;\n",
       "    }\n",
       "\n",
       "    .dataframe tbody tr th {\n",
       "        vertical-align: top;\n",
       "    }\n",
       "\n",
       "    .dataframe thead th {\n",
       "        text-align: right;\n",
       "    }\n",
       "</style>\n",
       "<table border=\"1\" class=\"dataframe\">\n",
       "  <thead>\n",
       "    <tr style=\"text-align: right;\">\n",
       "      <th></th>\n",
       "      <th>v2a1</th>\n",
       "      <th>hacdor</th>\n",
       "      <th>rooms</th>\n",
       "      <th>hacapo</th>\n",
       "      <th>v14a</th>\n",
       "      <th>refrig</th>\n",
       "      <th>v18q</th>\n",
       "      <th>v18q1</th>\n",
       "      <th>r4h1</th>\n",
       "      <th>r4h2</th>\n",
       "      <th>...</th>\n",
       "      <th>age</th>\n",
       "      <th>SQBescolari</th>\n",
       "      <th>SQBage</th>\n",
       "      <th>SQBhogar_total</th>\n",
       "      <th>SQBedjefe</th>\n",
       "      <th>SQBhogar_nin</th>\n",
       "      <th>SQBovercrowding</th>\n",
       "      <th>SQBdependency</th>\n",
       "      <th>SQBmeaned</th>\n",
       "      <th>agesq</th>\n",
       "    </tr>\n",
       "  </thead>\n",
       "  <tbody>\n",
       "    <tr>\n",
       "      <th>0</th>\n",
       "      <td>1.313389</td>\n",
       "      <td>-0.198986</td>\n",
       "      <td>-1.331829</td>\n",
       "      <td>-0.155629</td>\n",
       "      <td>0.072521</td>\n",
       "      <td>0.210363</td>\n",
       "      <td>-0.549262</td>\n",
       "      <td>-0.466827</td>\n",
       "      <td>-0.566874</td>\n",
       "      <td>-0.539470</td>\n",
       "      <td>...</td>\n",
       "      <td>0.402406</td>\n",
       "      <td>0.335757</td>\n",
       "      <td>0.117871</td>\n",
       "      <td>-0.967066</td>\n",
       "      <td>0.592794</td>\n",
       "      <td>-0.553536</td>\n",
       "      <td>-0.544758</td>\n",
       "      <td>-0.311754</td>\n",
       "      <td>-0.027692</td>\n",
       "      <td>0.117871</td>\n",
       "    </tr>\n",
       "    <tr>\n",
       "      <th>1</th>\n",
       "      <td>0.809548</td>\n",
       "      <td>-0.198986</td>\n",
       "      <td>-0.650771</td>\n",
       "      <td>-0.155629</td>\n",
       "      <td>0.072521</td>\n",
       "      <td>0.210363</td>\n",
       "      <td>1.820624</td>\n",
       "      <td>0.967727</td>\n",
       "      <td>-0.566874</td>\n",
       "      <td>-0.539470</td>\n",
       "      <td>...</td>\n",
       "      <td>1.512945</td>\n",
       "      <td>0.908871</td>\n",
       "      <td>1.634149</td>\n",
       "      <td>-0.967066</td>\n",
       "      <td>1.153720</td>\n",
       "      <td>-0.553536</td>\n",
       "      <td>-0.544758</td>\n",
       "      <td>4.803672</td>\n",
       "      <td>0.442959</td>\n",
       "      <td>1.634149</td>\n",
       "    </tr>\n",
       "    <tr>\n",
       "      <th>2</th>\n",
       "      <td>-0.427153</td>\n",
       "      <td>-0.198986</td>\n",
       "      <td>2.073460</td>\n",
       "      <td>-0.155629</td>\n",
       "      <td>0.072521</td>\n",
       "      <td>0.210363</td>\n",
       "      <td>-0.549262</td>\n",
       "      <td>-0.466827</td>\n",
       "      <td>-0.566874</td>\n",
       "      <td>-1.504237</td>\n",
       "      <td>...</td>\n",
       "      <td>2.669756</td>\n",
       "      <td>0.609289</td>\n",
       "      <td>3.917180</td>\n",
       "      <td>-0.967066</td>\n",
       "      <td>-0.682039</td>\n",
       "      <td>-0.553536</td>\n",
       "      <td>-0.726385</td>\n",
       "      <td>4.803672</td>\n",
       "      <td>0.196937</td>\n",
       "      <td>3.917180</td>\n",
       "    </tr>\n",
       "    <tr>\n",
       "      <th>3</th>\n",
       "      <td>1.221781</td>\n",
       "      <td>-0.198986</td>\n",
       "      <td>0.030287</td>\n",
       "      <td>-0.155629</td>\n",
       "      <td>0.072521</td>\n",
       "      <td>0.210363</td>\n",
       "      <td>1.820624</td>\n",
       "      <td>0.967727</td>\n",
       "      <td>-0.566874</td>\n",
       "      <td>0.425297</td>\n",
       "      <td>...</td>\n",
       "      <td>-0.800678</td>\n",
       "      <td>0.088276</td>\n",
       "      <td>-0.778111</td>\n",
       "      <td>-0.167084</td>\n",
       "      <td>0.860508</td>\n",
       "      <td>0.022340</td>\n",
       "      <td>-0.356403</td>\n",
       "      <td>-0.231825</td>\n",
       "      <td>0.196937</td>\n",
       "      <td>-0.778111</td>\n",
       "    </tr>\n",
       "    <tr>\n",
       "      <th>4</th>\n",
       "      <td>1.221781</td>\n",
       "      <td>-0.198986</td>\n",
       "      <td>0.030287</td>\n",
       "      <td>-0.155629</td>\n",
       "      <td>0.072521</td>\n",
       "      <td>0.210363</td>\n",
       "      <td>1.820624</td>\n",
       "      <td>0.967727</td>\n",
       "      <td>-0.566874</td>\n",
       "      <td>0.425297</td>\n",
       "      <td>...</td>\n",
       "      <td>0.124771</td>\n",
       "      <td>0.609289</td>\n",
       "      <td>-0.157816</td>\n",
       "      <td>-0.167084</td>\n",
       "      <td>0.860508</td>\n",
       "      <td>0.022340</td>\n",
       "      <td>-0.356403</td>\n",
       "      <td>-0.231825</td>\n",
       "      <td>0.196937</td>\n",
       "      <td>-0.157816</td>\n",
       "    </tr>\n",
       "  </tbody>\n",
       "</table>\n",
       "<p>5 rows × 135 columns</p>\n",
       "</div>"
      ],
      "text/plain": [
       "       v2a1    hacdor     rooms    hacapo      v14a    refrig      v18q  \\\n",
       "0  1.313389 -0.198986 -1.331829 -0.155629  0.072521  0.210363 -0.549262   \n",
       "1  0.809548 -0.198986 -0.650771 -0.155629  0.072521  0.210363  1.820624   \n",
       "2 -0.427153 -0.198986  2.073460 -0.155629  0.072521  0.210363 -0.549262   \n",
       "3  1.221781 -0.198986  0.030287 -0.155629  0.072521  0.210363  1.820624   \n",
       "4  1.221781 -0.198986  0.030287 -0.155629  0.072521  0.210363  1.820624   \n",
       "\n",
       "      v18q1      r4h1      r4h2  ...       age  SQBescolari    SQBage  \\\n",
       "0 -0.466827 -0.566874 -0.539470  ...  0.402406     0.335757  0.117871   \n",
       "1  0.967727 -0.566874 -0.539470  ...  1.512945     0.908871  1.634149   \n",
       "2 -0.466827 -0.566874 -1.504237  ...  2.669756     0.609289  3.917180   \n",
       "3  0.967727 -0.566874  0.425297  ... -0.800678     0.088276 -0.778111   \n",
       "4  0.967727 -0.566874  0.425297  ...  0.124771     0.609289 -0.157816   \n",
       "\n",
       "   SQBhogar_total  SQBedjefe  SQBhogar_nin  SQBovercrowding  SQBdependency  \\\n",
       "0       -0.967066   0.592794     -0.553536        -0.544758      -0.311754   \n",
       "1       -0.967066   1.153720     -0.553536        -0.544758       4.803672   \n",
       "2       -0.967066  -0.682039     -0.553536        -0.726385       4.803672   \n",
       "3       -0.167084   0.860508      0.022340        -0.356403      -0.231825   \n",
       "4       -0.167084   0.860508      0.022340        -0.356403      -0.231825   \n",
       "\n",
       "   SQBmeaned     agesq  \n",
       "0  -0.027692  0.117871  \n",
       "1   0.442959  1.634149  \n",
       "2   0.196937  3.917180  \n",
       "3   0.196937 -0.778111  \n",
       "4   0.196937 -0.157816  \n",
       "\n",
       "[5 rows x 135 columns]"
      ]
     },
     "execution_count": 101,
     "metadata": {},
     "output_type": "execute_result"
    }
   ],
   "source": [
    "x_data =pd.DataFrame(x,columns=x_data_col)\n",
    "x_data.head()"
   ]
  },
  {
   "cell_type": "markdown",
   "metadata": {},
   "source": [
    "# Lets Apply model prediction to train set."
   ]
  },
  {
   "cell_type": "code",
   "execution_count": 102,
   "metadata": {},
   "outputs": [],
   "source": [
    "x_train,x_test,y_train,y_test =train_test_split(x_data,y,test_size=0.3,random_state=0)"
   ]
  },
  {
   "cell_type": "code",
   "execution_count": 103,
   "metadata": {},
   "outputs": [
    {
     "name": "stdout",
     "output_type": "stream",
     "text": [
      "x_train shape: (6689, 135)\n",
      "y_train shape: (6689,)\n",
      "x_test shape: (2868, 135)\n",
      "y_test shape: (2868,)\n"
     ]
    }
   ],
   "source": [
    "print(\"x_train shape:\",x_train.shape)\n",
    "print(\"y_train shape:\",y_train.shape)\n",
    "print(\"x_test shape:\",x_test.shape)\n",
    "print(\"y_test shape:\",y_test.shape)"
   ]
  },
  {
   "cell_type": "markdown",
   "metadata": {},
   "source": [
    "## lets apply gridSerchCV to find the best parameters for prediction."
   ]
  },
  {
   "cell_type": "code",
   "execution_count": 104,
   "metadata": {},
   "outputs": [],
   "source": [
    "from sklearn.pipeline import Pipeline\n",
    "from sklearn.model_selection import GridSearchCV"
   ]
  },
  {
   "cell_type": "code",
   "execution_count": 105,
   "metadata": {},
   "outputs": [
    {
     "name": "stdout",
     "output_type": "stream",
     "text": [
      "Best CV score 0.8560328218664015\n",
      "Model Parameter {'max_depth': 25, 'n_estimators': 300}\n",
      "Best Estimators RandomForestClassifier(max_depth=25, n_estimators=300, random_state=0)\n"
     ]
    }
   ],
   "source": [
    "RFC =RandomForestClassifier(random_state=0)\n",
    "parameter ={'n_estimators':[10,50,100,300], 'max_depth':[5,10,15,25]}\n",
    "grid=zip([RFC],[parameter])\n",
    "best_= None\n",
    "for i,j in grid:\n",
    "    a=GridSearchCV(i,param_grid=j,cv=3,n_jobs=1)\n",
    "    a.fit(x_train,y_train)\n",
    "    if best_ is None:\n",
    "        best_=a \n",
    "print(\"Best CV score\",best_.best_score_)\n",
    "print(\"Model Parameter\",best_.best_params_)\n",
    "print(\"Best Estimators\",best_.best_estimator_)"
   ]
  },
  {
   "cell_type": "code",
   "execution_count": 106,
   "metadata": {},
   "outputs": [
    {
     "data": {
      "text/plain": [
       "RandomForestClassifier(max_depth=25, n_estimators=300, random_state=0)"
      ]
     },
     "execution_count": 106,
     "metadata": {},
     "output_type": "execute_result"
    }
   ],
   "source": [
    "RFC_1 =best_.best_estimator_\n",
    "Model= RFC_1.fit(x_train,y_train)\n",
    "Model"
   ]
  },
  {
   "cell_type": "code",
   "execution_count": 107,
   "metadata": {},
   "outputs": [
    {
     "data": {
      "text/plain": [
       "array([4, 4, 4, ..., 4, 4, 2])"
      ]
     },
     "execution_count": 107,
     "metadata": {},
     "output_type": "execute_result"
    }
   ],
   "source": [
    "y_pred= RFC_1.predict(x_test)\n",
    "y_pred"
   ]
  },
  {
   "cell_type": "code",
   "execution_count": 108,
   "metadata": {},
   "outputs": [
    {
     "name": "stdout",
     "output_type": "stream",
     "text": [
      "Model score of the train data:1.0\n",
      "Model Score of the test data:0.902370990237099\n"
     ]
    }
   ],
   "source": [
    "# lets check the model score \n",
    "print('Model score of the train data:{}'.format(Model.score(x_train,y_train)))\n",
    "print(\"Model Score of the test data:{}\".format(Model.score(x_test,y_test)))"
   ]
  },
  {
   "cell_type": "code",
   "execution_count": 109,
   "metadata": {},
   "outputs": [
    {
     "name": "stdout",
     "output_type": "stream",
     "text": [
      "Accuracy 0.902370990237099\n"
     ]
    }
   ],
   "source": [
    "Accuracy= accuracy_score(y_pred,y_test)\n",
    "print(\"Accuracy\",Accuracy)"
   ]
  },
  {
   "cell_type": "code",
   "execution_count": 110,
   "metadata": {},
   "outputs": [
    {
     "name": "stdout",
     "output_type": "stream",
     "text": [
      "f1Score 0.9063750271389078\n"
     ]
    }
   ],
   "source": [
    "f_1_score= f1_score(y_pred,y_test,average='weighted')\n",
    "print(\"f1Score\",f_1_score)"
   ]
  },
  {
   "cell_type": "code",
   "execution_count": 111,
   "metadata": {},
   "outputs": [
    {
     "name": "stdout",
     "output_type": "stream",
     "text": [
      "Confusion_Matrix [[ 162    7    1    1]\n",
      " [  20  398   12    4]\n",
      " [   0    6  280    6]\n",
      " [  50   80   93 1748]]\n"
     ]
    }
   ],
   "source": [
    "confusion_matrix=confusion_matrix(y_pred,y_test)\n",
    "print(\"Confusion_Matrix\",confusion_matrix)"
   ]
  },
  {
   "cell_type": "code",
   "execution_count": 112,
   "metadata": {},
   "outputs": [
    {
     "data": {
      "text/html": [
       "<div>\n",
       "<style scoped>\n",
       "    .dataframe tbody tr th:only-of-type {\n",
       "        vertical-align: middle;\n",
       "    }\n",
       "\n",
       "    .dataframe tbody tr th {\n",
       "        vertical-align: top;\n",
       "    }\n",
       "\n",
       "    .dataframe thead th {\n",
       "        text-align: right;\n",
       "    }\n",
       "</style>\n",
       "<table border=\"1\" class=\"dataframe\">\n",
       "  <thead>\n",
       "    <tr style=\"text-align: right;\">\n",
       "      <th></th>\n",
       "      <th>feature_importance</th>\n",
       "    </tr>\n",
       "  </thead>\n",
       "  <tbody>\n",
       "    <tr>\n",
       "      <th>v2a1</th>\n",
       "      <td>0.014516</td>\n",
       "    </tr>\n",
       "    <tr>\n",
       "      <th>hacdor</th>\n",
       "      <td>0.001949</td>\n",
       "    </tr>\n",
       "    <tr>\n",
       "      <th>rooms</th>\n",
       "      <td>0.018838</td>\n",
       "    </tr>\n",
       "    <tr>\n",
       "      <th>hacapo</th>\n",
       "      <td>0.001235</td>\n",
       "    </tr>\n",
       "    <tr>\n",
       "      <th>v14a</th>\n",
       "      <td>0.000720</td>\n",
       "    </tr>\n",
       "  </tbody>\n",
       "</table>\n",
       "</div>"
      ],
      "text/plain": [
       "        feature_importance\n",
       "v2a1              0.014516\n",
       "hacdor            0.001949\n",
       "rooms             0.018838\n",
       "hacapo            0.001235\n",
       "v14a              0.000720"
      ]
     },
     "execution_count": 112,
     "metadata": {},
     "output_type": "execute_result"
    }
   ],
   "source": [
    "Important_features=pd.DataFrame(Model.feature_importances_,x_data_col,columns=['feature_importance'])\n",
    "Important_features.head()"
   ]
  },
  {
   "cell_type": "code",
   "execution_count": 113,
   "metadata": {},
   "outputs": [
    {
     "data": {
      "text/plain": [
       "Index(['SQBmeaned', 'meaneduc', 'SQBdependency', 'dependency', 'overcrowding',\n",
       "       'SQBovercrowding', 'qmobilephone', 'edjefe', 'SQBedjefe',\n",
       "       'SQBhogar_nin', 'hogar_nin', 'agesq', 'rooms', 'SQBage', 'age', 'r4t1',\n",
       "       'edjefa', 'escolari', 'r4h2', 'r4t2', 'r4h3', 'r4m3', 'SQBescolari',\n",
       "       'cielorazo', 'v2a1', 'hogar_adul', 'tamviv', 'bedrooms', 'r4m2',\n",
       "       'eviv3', 'epared3', 'pisomoscer', 'r4t3', 'SQBhogar_total', 'hhsize',\n",
       "       'r4m1', 'paredblolad', 'tamhog', 'r4h1', 'etecho3', 'v18q1', 'lugar1',\n",
       "       'energcocinar2', 'energcocinar3', 'area1', 'television', 'v18q',\n",
       "       'tipovivi1', 'paredpreb', 'epared2'],\n",
       "      dtype='object')"
      ]
     },
     "execution_count": 113,
     "metadata": {},
     "output_type": "execute_result"
    }
   ],
   "source": [
    "Top50Features=Important_features.sort_values(by='feature_importance',ascending=False).head(50).index\n",
    "Top50Features"
   ]
  },
  {
   "cell_type": "code",
   "execution_count": 114,
   "metadata": {},
   "outputs": [],
   "source": [
    "for i in Top50Features:\n",
    "    if i not in x_data_col:\n",
    "        print(i)"
   ]
  },
  {
   "cell_type": "code",
   "execution_count": 115,
   "metadata": {},
   "outputs": [
    {
     "data": {
      "text/html": [
       "<div>\n",
       "<style scoped>\n",
       "    .dataframe tbody tr th:only-of-type {\n",
       "        vertical-align: middle;\n",
       "    }\n",
       "\n",
       "    .dataframe tbody tr th {\n",
       "        vertical-align: top;\n",
       "    }\n",
       "\n",
       "    .dataframe thead th {\n",
       "        text-align: right;\n",
       "    }\n",
       "</style>\n",
       "<table border=\"1\" class=\"dataframe\">\n",
       "  <thead>\n",
       "    <tr style=\"text-align: right;\">\n",
       "      <th></th>\n",
       "      <th>SQBmeaned</th>\n",
       "      <th>meaneduc</th>\n",
       "      <th>SQBdependency</th>\n",
       "      <th>dependency</th>\n",
       "      <th>overcrowding</th>\n",
       "      <th>SQBovercrowding</th>\n",
       "      <th>qmobilephone</th>\n",
       "      <th>edjefe</th>\n",
       "      <th>SQBedjefe</th>\n",
       "      <th>SQBhogar_nin</th>\n",
       "      <th>...</th>\n",
       "      <th>v18q1</th>\n",
       "      <th>lugar1</th>\n",
       "      <th>energcocinar2</th>\n",
       "      <th>energcocinar3</th>\n",
       "      <th>area1</th>\n",
       "      <th>television</th>\n",
       "      <th>v18q</th>\n",
       "      <th>tipovivi1</th>\n",
       "      <th>paredpreb</th>\n",
       "      <th>epared2</th>\n",
       "    </tr>\n",
       "  </thead>\n",
       "  <tbody>\n",
       "    <tr>\n",
       "      <th>0</th>\n",
       "      <td>-0.027692</td>\n",
       "      <td>0.184447</td>\n",
       "      <td>-0.311754</td>\n",
       "      <td>-0.715826</td>\n",
       "      <td>-0.738356</td>\n",
       "      <td>-0.544758</td>\n",
       "      <td>-1.228106</td>\n",
       "      <td>0.934615</td>\n",
       "      <td>0.592794</td>\n",
       "      <td>-0.553536</td>\n",
       "      <td>...</td>\n",
       "      <td>-0.466827</td>\n",
       "      <td>0.837702</td>\n",
       "      <td>-0.979390</td>\n",
       "      <td>1.086952</td>\n",
       "      <td>0.632039</td>\n",
       "      <td>-0.630742</td>\n",
       "      <td>-0.549262</td>\n",
       "      <td>-1.273275</td>\n",
       "      <td>-0.481219</td>\n",
       "      <td>1.433294</td>\n",
       "    </tr>\n",
       "    <tr>\n",
       "      <th>1</th>\n",
       "      <td>0.442959</td>\n",
       "      <td>0.664479</td>\n",
       "      <td>4.803672</td>\n",
       "      <td>4.265778</td>\n",
       "      <td>-0.738356</td>\n",
       "      <td>-0.544758</td>\n",
       "      <td>-1.228106</td>\n",
       "      <td>1.315840</td>\n",
       "      <td>1.153720</td>\n",
       "      <td>-0.553536</td>\n",
       "      <td>...</td>\n",
       "      <td>0.967727</td>\n",
       "      <td>0.837702</td>\n",
       "      <td>1.021044</td>\n",
       "      <td>-0.920004</td>\n",
       "      <td>0.632039</td>\n",
       "      <td>-0.630742</td>\n",
       "      <td>1.820624</td>\n",
       "      <td>-1.273275</td>\n",
       "      <td>-0.481219</td>\n",
       "      <td>1.433294</td>\n",
       "    </tr>\n",
       "    <tr>\n",
       "      <th>2</th>\n",
       "      <td>0.196937</td>\n",
       "      <td>0.424463</td>\n",
       "      <td>4.803672</td>\n",
       "      <td>4.265778</td>\n",
       "      <td>-1.348184</td>\n",
       "      <td>-0.726385</td>\n",
       "      <td>-1.902337</td>\n",
       "      <td>-0.971513</td>\n",
       "      <td>-0.682039</td>\n",
       "      <td>-0.553536</td>\n",
       "      <td>...</td>\n",
       "      <td>-0.466827</td>\n",
       "      <td>0.837702</td>\n",
       "      <td>1.021044</td>\n",
       "      <td>-0.920004</td>\n",
       "      <td>0.632039</td>\n",
       "      <td>-0.630742</td>\n",
       "      <td>-0.549262</td>\n",
       "      <td>0.785376</td>\n",
       "      <td>-0.481219</td>\n",
       "      <td>1.433294</td>\n",
       "    </tr>\n",
       "    <tr>\n",
       "      <th>3</th>\n",
       "      <td>0.196937</td>\n",
       "      <td>0.424463</td>\n",
       "      <td>-0.231825</td>\n",
       "      <td>-0.093125</td>\n",
       "      <td>-0.331804</td>\n",
       "      <td>-0.356403</td>\n",
       "      <td>0.120356</td>\n",
       "      <td>1.125228</td>\n",
       "      <td>0.860508</td>\n",
       "      <td>0.022340</td>\n",
       "      <td>...</td>\n",
       "      <td>0.967727</td>\n",
       "      <td>0.837702</td>\n",
       "      <td>1.021044</td>\n",
       "      <td>-0.920004</td>\n",
       "      <td>0.632039</td>\n",
       "      <td>-0.630742</td>\n",
       "      <td>1.820624</td>\n",
       "      <td>-1.273275</td>\n",
       "      <td>-0.481219</td>\n",
       "      <td>-0.697694</td>\n",
       "    </tr>\n",
       "    <tr>\n",
       "      <th>4</th>\n",
       "      <td>0.196937</td>\n",
       "      <td>0.424463</td>\n",
       "      <td>-0.231825</td>\n",
       "      <td>-0.093125</td>\n",
       "      <td>-0.331804</td>\n",
       "      <td>-0.356403</td>\n",
       "      <td>0.120356</td>\n",
       "      <td>1.125228</td>\n",
       "      <td>0.860508</td>\n",
       "      <td>0.022340</td>\n",
       "      <td>...</td>\n",
       "      <td>0.967727</td>\n",
       "      <td>0.837702</td>\n",
       "      <td>1.021044</td>\n",
       "      <td>-0.920004</td>\n",
       "      <td>0.632039</td>\n",
       "      <td>-0.630742</td>\n",
       "      <td>1.820624</td>\n",
       "      <td>-1.273275</td>\n",
       "      <td>-0.481219</td>\n",
       "      <td>-0.697694</td>\n",
       "    </tr>\n",
       "    <tr>\n",
       "      <th>...</th>\n",
       "      <td>...</td>\n",
       "      <td>...</td>\n",
       "      <td>...</td>\n",
       "      <td>...</td>\n",
       "      <td>...</td>\n",
       "      <td>...</td>\n",
       "      <td>...</td>\n",
       "      <td>...</td>\n",
       "      <td>...</td>\n",
       "      <td>...</td>\n",
       "      <td>...</td>\n",
       "      <td>...</td>\n",
       "      <td>...</td>\n",
       "      <td>...</td>\n",
       "      <td>...</td>\n",
       "      <td>...</td>\n",
       "      <td>...</td>\n",
       "      <td>...</td>\n",
       "      <td>...</td>\n",
       "      <td>...</td>\n",
       "      <td>...</td>\n",
       "    </tr>\n",
       "    <tr>\n",
       "      <th>9552</th>\n",
       "      <td>-0.369315</td>\n",
       "      <td>-0.235581</td>\n",
       "      <td>-0.306758</td>\n",
       "      <td>-0.560150</td>\n",
       "      <td>-0.433442</td>\n",
       "      <td>-0.408537</td>\n",
       "      <td>0.120356</td>\n",
       "      <td>0.744002</td>\n",
       "      <td>0.350576</td>\n",
       "      <td>-0.409567</td>\n",
       "      <td>...</td>\n",
       "      <td>-0.466827</td>\n",
       "      <td>-1.193742</td>\n",
       "      <td>-0.979390</td>\n",
       "      <td>1.086952</td>\n",
       "      <td>-1.582182</td>\n",
       "      <td>1.585435</td>\n",
       "      <td>-0.549262</td>\n",
       "      <td>-1.273275</td>\n",
       "      <td>-0.481219</td>\n",
       "      <td>1.433294</td>\n",
       "    </tr>\n",
       "    <tr>\n",
       "      <th>9553</th>\n",
       "      <td>-0.369315</td>\n",
       "      <td>-0.235581</td>\n",
       "      <td>-0.306758</td>\n",
       "      <td>-0.560150</td>\n",
       "      <td>-0.433442</td>\n",
       "      <td>-0.408537</td>\n",
       "      <td>0.120356</td>\n",
       "      <td>0.744002</td>\n",
       "      <td>0.350576</td>\n",
       "      <td>-0.409567</td>\n",
       "      <td>...</td>\n",
       "      <td>-0.466827</td>\n",
       "      <td>-1.193742</td>\n",
       "      <td>-0.979390</td>\n",
       "      <td>1.086952</td>\n",
       "      <td>-1.582182</td>\n",
       "      <td>1.585435</td>\n",
       "      <td>-0.549262</td>\n",
       "      <td>-1.273275</td>\n",
       "      <td>-0.481219</td>\n",
       "      <td>1.433294</td>\n",
       "    </tr>\n",
       "    <tr>\n",
       "      <th>9554</th>\n",
       "      <td>-0.369315</td>\n",
       "      <td>-0.235581</td>\n",
       "      <td>-0.306758</td>\n",
       "      <td>-0.560150</td>\n",
       "      <td>-0.433442</td>\n",
       "      <td>-0.408537</td>\n",
       "      <td>0.120356</td>\n",
       "      <td>0.744002</td>\n",
       "      <td>0.350576</td>\n",
       "      <td>-0.409567</td>\n",
       "      <td>...</td>\n",
       "      <td>-0.466827</td>\n",
       "      <td>-1.193742</td>\n",
       "      <td>-0.979390</td>\n",
       "      <td>1.086952</td>\n",
       "      <td>-1.582182</td>\n",
       "      <td>1.585435</td>\n",
       "      <td>-0.549262</td>\n",
       "      <td>-1.273275</td>\n",
       "      <td>-0.481219</td>\n",
       "      <td>1.433294</td>\n",
       "    </tr>\n",
       "    <tr>\n",
       "      <th>9555</th>\n",
       "      <td>-0.369315</td>\n",
       "      <td>-0.235581</td>\n",
       "      <td>-0.306758</td>\n",
       "      <td>-0.560150</td>\n",
       "      <td>-0.433442</td>\n",
       "      <td>-0.408537</td>\n",
       "      <td>0.120356</td>\n",
       "      <td>0.744002</td>\n",
       "      <td>0.350576</td>\n",
       "      <td>-0.409567</td>\n",
       "      <td>...</td>\n",
       "      <td>-0.466827</td>\n",
       "      <td>-1.193742</td>\n",
       "      <td>-0.979390</td>\n",
       "      <td>1.086952</td>\n",
       "      <td>-1.582182</td>\n",
       "      <td>1.585435</td>\n",
       "      <td>-0.549262</td>\n",
       "      <td>-1.273275</td>\n",
       "      <td>-0.481219</td>\n",
       "      <td>1.433294</td>\n",
       "    </tr>\n",
       "    <tr>\n",
       "      <th>9556</th>\n",
       "      <td>-0.369315</td>\n",
       "      <td>-0.235581</td>\n",
       "      <td>-0.306758</td>\n",
       "      <td>-0.560150</td>\n",
       "      <td>-0.433442</td>\n",
       "      <td>-0.408537</td>\n",
       "      <td>0.120356</td>\n",
       "      <td>0.744002</td>\n",
       "      <td>0.350576</td>\n",
       "      <td>-0.409567</td>\n",
       "      <td>...</td>\n",
       "      <td>-0.466827</td>\n",
       "      <td>-1.193742</td>\n",
       "      <td>-0.979390</td>\n",
       "      <td>1.086952</td>\n",
       "      <td>-1.582182</td>\n",
       "      <td>1.585435</td>\n",
       "      <td>-0.549262</td>\n",
       "      <td>-1.273275</td>\n",
       "      <td>-0.481219</td>\n",
       "      <td>1.433294</td>\n",
       "    </tr>\n",
       "  </tbody>\n",
       "</table>\n",
       "<p>9557 rows × 50 columns</p>\n",
       "</div>"
      ],
      "text/plain": [
       "      SQBmeaned  meaneduc  SQBdependency  dependency  overcrowding  \\\n",
       "0     -0.027692  0.184447      -0.311754   -0.715826     -0.738356   \n",
       "1      0.442959  0.664479       4.803672    4.265778     -0.738356   \n",
       "2      0.196937  0.424463       4.803672    4.265778     -1.348184   \n",
       "3      0.196937  0.424463      -0.231825   -0.093125     -0.331804   \n",
       "4      0.196937  0.424463      -0.231825   -0.093125     -0.331804   \n",
       "...         ...       ...            ...         ...           ...   \n",
       "9552  -0.369315 -0.235581      -0.306758   -0.560150     -0.433442   \n",
       "9553  -0.369315 -0.235581      -0.306758   -0.560150     -0.433442   \n",
       "9554  -0.369315 -0.235581      -0.306758   -0.560150     -0.433442   \n",
       "9555  -0.369315 -0.235581      -0.306758   -0.560150     -0.433442   \n",
       "9556  -0.369315 -0.235581      -0.306758   -0.560150     -0.433442   \n",
       "\n",
       "      SQBovercrowding  qmobilephone    edjefe  SQBedjefe  SQBhogar_nin  ...  \\\n",
       "0           -0.544758     -1.228106  0.934615   0.592794     -0.553536  ...   \n",
       "1           -0.544758     -1.228106  1.315840   1.153720     -0.553536  ...   \n",
       "2           -0.726385     -1.902337 -0.971513  -0.682039     -0.553536  ...   \n",
       "3           -0.356403      0.120356  1.125228   0.860508      0.022340  ...   \n",
       "4           -0.356403      0.120356  1.125228   0.860508      0.022340  ...   \n",
       "...               ...           ...       ...        ...           ...  ...   \n",
       "9552        -0.408537      0.120356  0.744002   0.350576     -0.409567  ...   \n",
       "9553        -0.408537      0.120356  0.744002   0.350576     -0.409567  ...   \n",
       "9554        -0.408537      0.120356  0.744002   0.350576     -0.409567  ...   \n",
       "9555        -0.408537      0.120356  0.744002   0.350576     -0.409567  ...   \n",
       "9556        -0.408537      0.120356  0.744002   0.350576     -0.409567  ...   \n",
       "\n",
       "         v18q1    lugar1  energcocinar2  energcocinar3     area1  television  \\\n",
       "0    -0.466827  0.837702      -0.979390       1.086952  0.632039   -0.630742   \n",
       "1     0.967727  0.837702       1.021044      -0.920004  0.632039   -0.630742   \n",
       "2    -0.466827  0.837702       1.021044      -0.920004  0.632039   -0.630742   \n",
       "3     0.967727  0.837702       1.021044      -0.920004  0.632039   -0.630742   \n",
       "4     0.967727  0.837702       1.021044      -0.920004  0.632039   -0.630742   \n",
       "...        ...       ...            ...            ...       ...         ...   \n",
       "9552 -0.466827 -1.193742      -0.979390       1.086952 -1.582182    1.585435   \n",
       "9553 -0.466827 -1.193742      -0.979390       1.086952 -1.582182    1.585435   \n",
       "9554 -0.466827 -1.193742      -0.979390       1.086952 -1.582182    1.585435   \n",
       "9555 -0.466827 -1.193742      -0.979390       1.086952 -1.582182    1.585435   \n",
       "9556 -0.466827 -1.193742      -0.979390       1.086952 -1.582182    1.585435   \n",
       "\n",
       "          v18q  tipovivi1  paredpreb   epared2  \n",
       "0    -0.549262  -1.273275  -0.481219  1.433294  \n",
       "1     1.820624  -1.273275  -0.481219  1.433294  \n",
       "2    -0.549262   0.785376  -0.481219  1.433294  \n",
       "3     1.820624  -1.273275  -0.481219 -0.697694  \n",
       "4     1.820624  -1.273275  -0.481219 -0.697694  \n",
       "...        ...        ...        ...       ...  \n",
       "9552 -0.549262  -1.273275  -0.481219  1.433294  \n",
       "9553 -0.549262  -1.273275  -0.481219  1.433294  \n",
       "9554 -0.549262  -1.273275  -0.481219  1.433294  \n",
       "9555 -0.549262  -1.273275  -0.481219  1.433294  \n",
       "9556 -0.549262  -1.273275  -0.481219  1.433294  \n",
       "\n",
       "[9557 rows x 50 columns]"
      ]
     },
     "execution_count": 115,
     "metadata": {},
     "output_type": "execute_result"
    }
   ],
   "source": [
    "X_data_Top50=x_data[Top50Features]\n",
    "X_data_Top50"
   ]
  },
  {
   "cell_type": "code",
   "execution_count": 116,
   "metadata": {},
   "outputs": [],
   "source": [
    "X_train,X_test,Y_train,Y_test=train_test_split(X_data_Top50,y,test_size=0.25,random_state=0)"
   ]
  },
  {
   "cell_type": "code",
   "execution_count": 117,
   "metadata": {},
   "outputs": [
    {
     "name": "stdout",
     "output_type": "stream",
     "text": [
      "X train (7167, 50)\n",
      "Ytrain (7167,)\n",
      "X test (2390, 50)\n",
      "Y test (2390,)\n"
     ]
    }
   ],
   "source": [
    "print('X train',X_train.shape)\n",
    "print('Ytrain',Y_train.shape)\n",
    "print('X test',X_test.shape)\n",
    "print('Y test',Y_test.shape)"
   ]
  },
  {
   "cell_type": "code",
   "execution_count": 118,
   "metadata": {},
   "outputs": [
    {
     "data": {
      "text/plain": [
       "RandomForestClassifier(max_depth=25, n_estimators=300, random_state=0)"
      ]
     },
     "execution_count": 118,
     "metadata": {},
     "output_type": "execute_result"
    }
   ],
   "source": [
    "Model_1=RFC_1.fit(X_train,Y_train)\n",
    "\n",
    "Model_1"
   ]
  },
  {
   "cell_type": "code",
   "execution_count": 119,
   "metadata": {},
   "outputs": [
    {
     "data": {
      "text/plain": [
       "array([4, 4, 4, ..., 4, 2, 1])"
      ]
     },
     "execution_count": 119,
     "metadata": {},
     "output_type": "execute_result"
    }
   ],
   "source": [
    "pred = RFC_1.predict(X_test)\n",
    "pred"
   ]
  },
  {
   "cell_type": "code",
   "execution_count": 120,
   "metadata": {},
   "outputs": [
    {
     "data": {
      "text/plain": [
       "0.9199220786804884"
      ]
     },
     "execution_count": 120,
     "metadata": {},
     "output_type": "execute_result"
    }
   ],
   "source": [
    "f1_score(Y_test,pred,average='weighted')"
   ]
  },
  {
   "cell_type": "code",
   "execution_count": 121,
   "metadata": {},
   "outputs": [
    {
     "data": {
      "text/plain": [
       "0.9221757322175732"
      ]
     },
     "execution_count": 121,
     "metadata": {},
     "output_type": "execute_result"
    }
   ],
   "source": [
    "accuracy_score(Y_test,pred)"
   ]
  },
  {
   "cell_type": "markdown",
   "metadata": {},
   "source": [
    "# Check the accuracy using random forest with cross validation."
   ]
  },
  {
   "cell_type": "code",
   "execution_count": 122,
   "metadata": {},
   "outputs": [],
   "source": [
    "from sklearn.model_selection import KFold,cross_val_score"
   ]
  },
  {
   "cell_type": "code",
   "execution_count": null,
   "metadata": {},
   "outputs": [
    {
     "name": "stdout",
     "output_type": "stream",
     "text": [
      "[0.92259414 0.92520921 0.91941392 0.91208791 0.92150706]\n"
     ]
    }
   ],
   "source": [
    "seed=7\n",
    "kfold=KFold(n_splits=5,random_state=7,shuffle=True)\n",
    "print(cross_val_score(RFC_1,x,y,cv=kfold,scoring='accuracy'))\n",
    "result=cross_val_score(RFC_1,x,y,cv=kfold,scoring='accuracy')\n",
    "print(result*100)"
   ]
  },
  {
   "cell_type": "code",
   "execution_count": null,
   "metadata": {},
   "outputs": [],
   "source": [
    "Test_income.drop(['tipovivi3','rez_esc','elimbasu5'],axis=1,inplace=True)"
   ]
  },
  {
   "cell_type": "code",
   "execution_count": null,
   "metadata": {},
   "outputs": [],
   "source": [
    "test_data=Test_income[Top50Features]"
   ]
  },
  {
   "cell_type": "code",
   "execution_count": null,
   "metadata": {},
   "outputs": [],
   "source": [
    "\n",
    "Test_data_1=scaler.fit_transform(test_data)\n",
    "X_data_1=pd.DataFrame(Test_data_1)"
   ]
  },
  {
   "cell_type": "code",
   "execution_count": null,
   "metadata": {},
   "outputs": [],
   "source": [
    "test_prediction=Model_1.predict(test_data)"
   ]
  },
  {
   "cell_type": "code",
   "execution_count": null,
   "metadata": {},
   "outputs": [],
   "source": [
    "test_prediction"
   ]
  },
  {
   "cell_type": "markdown",
   "metadata": {},
   "source": [
    "# Interpretation :\n",
    "Above is our prediction for test data.\n",
    "\n",
    "# Conclusion :\n",
    "Using RandomForest Classifier we can predict test_data with accuracy of 90%\n",
    "\n",
    "accuracy using random forest with cross validation 92%..\n"
   ]
  },
  {
   "cell_type": "code",
   "execution_count": null,
   "metadata": {},
   "outputs": [],
   "source": []
  }
 ],
 "metadata": {
  "kernelspec": {
   "display_name": "Python 3",
   "language": "python",
   "name": "python3"
  },
  "language_info": {
   "codemirror_mode": {
    "name": "ipython",
    "version": 3
   },
   "file_extension": ".py",
   "mimetype": "text/x-python",
   "name": "python",
   "nbconvert_exporter": "python",
   "pygments_lexer": "ipython3",
   "version": "3.7.6"
  }
 },
 "nbformat": 4,
 "nbformat_minor": 4
}
